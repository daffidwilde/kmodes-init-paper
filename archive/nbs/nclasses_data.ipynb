{
 "cells": [
  {
   "cell_type": "markdown",
   "metadata": {},
   "source": [
    "# Generate the $k$-by-classes results\n",
    "\n",
    "This notebook contains the code to generate the data used in Section 3.2"
   ]
  },
  {
   "cell_type": "code",
   "execution_count": null,
   "metadata": {},
   "outputs": [],
   "source": [
    "from collections import namedtuple\n",
    "import time\n",
    "import warnings\n",
    "\n",
    "from kmodes.kmodes import KModes\n",
    "from kmodes.util import dissim\n",
    "\n",
    "import matplotlib.pyplot as plt\n",
    "import numpy as np\n",
    "import pandas as pd\n",
    "import tqdm\n"
   ]
  },
  {
   "cell_type": "code",
   "execution_count": null,
   "metadata": {},
   "outputs": [],
   "source": [
    "Record = namedtuple(\n",
    "    \"Record\",\n",
    "    [\n",
    "        \"n_clusters\",\n",
    "        \"initialisation\",\n",
    "        \"seed\",\n",
    "        \"initial_cost\",\n",
    "        \"final_cost\",\n",
    "        \"n_iterations\",\n",
    "        \"time\",\n",
    "    ],\n",
    ")\n",
    "\n",
    "\n",
    "def find_clustering(data, n_clusters, initialisation, seed):\n",
    "\n",
    "    start = time.perf_counter()\n",
    "    km = KModes(n_clusters, init=initialisation, n_init=1, random_state=seed)\n",
    "    km.fit(data)\n",
    "    end = time.perf_counter()\n",
    "\n",
    "    return km.epoch_costs_[0], km.epoch_costs_[-1], km.n_iter_, end - start\n",
    "\n",
    "\n",
    "def run_experiment(data, initialisation, repetitions):\n",
    "\n",
    "    data = data.dropna()\n",
    "    n_clusters = data[\"class\"].nunique()\n",
    "    data = data.drop(\"class\", axis=1)\n",
    "\n",
    "    results = []\n",
    "    for seed in tqdm.tqdm(range(repetitions)):\n",
    "        initial_cost, final_cost, n_iter, time = find_clustering(\n",
    "            data, n_clusters, initialisation, seed\n",
    "        )\n",
    "\n",
    "        record = Record(\n",
    "            n_clusters, initialisation, seed, initial_cost, final_cost, n_iter, time\n",
    "        )\n",
    "        results.append(record)\n",
    "\n",
    "    return pd.DataFrame(results)\n",
    "\n",
    "\n",
    "def main(name, repetitions=250, root=\"../data/\", destination=None):\n",
    "\n",
    "    data = pd.read_csv(f\"{root}{name}.csv\", na_values=[\"?\", \"dna\"])\n",
    "\n",
    "    dfs = []\n",
    "    for initialisation in (\"cao\", \"huang\", \"matching\"):\n",
    "        df = run_experiment(data, initialisation, repetitions)\n",
    "        dfs.append(df)\n",
    "\n",
    "    df = pd.concat(dfs, axis=0, ignore_index=True)\n",
    "    if destination is not None:\n",
    "        df.to_csv(destination + f\"{name}_results.csv\", index=False)\n",
    "\n",
    "    return df\n"
   ]
  },
  {
   "cell_type": "code",
   "execution_count": null,
   "metadata": {},
   "outputs": [],
   "source": [
    "for name in (\"breast_cancer\", \"mushroom\", \"nursery\", \"soybean\"):\n",
    "    print(name)\n",
    "    main(name, root=\"../data/\", destination=\"../data/nclasses/\")\n"
   ]
  },
  {
   "cell_type": "code",
   "execution_count": null,
   "metadata": {},
   "outputs": [],
   "source": []
  }
 ],
 "metadata": {
  "kernelspec": {
   "display_name": "Python 3",
   "language": "python",
   "name": "python3"
  },
  "language_info": {
   "codemirror_mode": {
    "name": "ipython",
    "version": 3
   },
   "file_extension": ".py",
   "mimetype": "text/x-python",
   "name": "python",
   "nbconvert_exporter": "python",
   "pygments_lexer": "ipython3",
   "version": "3.7.3"
  }
 },
 "nbformat": 4,
 "nbformat_minor": 2
}
