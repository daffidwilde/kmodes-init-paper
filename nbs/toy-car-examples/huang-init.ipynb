{
 "cells": [
  {
   "cell_type": "code",
   "execution_count": 1,
   "metadata": {},
   "outputs": [],
   "source": [
    "import pandas as pd\n",
    "import numpy as np\n",
    "import itertools\n",
    "import sympy as sym\n",
    "\n",
    "from copy import deepcopy\n",
    "from collections import defaultdict\n",
    "from kmodes.kmodes import init_huang"
   ]
  },
  {
   "cell_type": "code",
   "execution_count": 2,
   "metadata": {},
   "outputs": [],
   "source": [
    "def dissim(X, x):\n",
    "    return np.sum(X != x, axis=1)\n",
    "    \n",
    "def summed_dissim(X, x):\n",
    "    return np.sum(dissim(X, x))\n",
    "\n",
    "def fraction(A):\n",
    "    if A != 0:\n",
    "        return sym.S(f'{A} / 10', evaluate=False)\n",
    "    return f'{A}'"
   ]
  },
  {
   "cell_type": "code",
   "execution_count": 71,
   "metadata": {},
   "outputs": [],
   "source": [
    "df = pd.read_csv('../../data/vehicle.csv', dtype=object)\n",
    "df.index += 1\n",
    "\n",
    "X = df.values"
   ]
  },
  {
   "cell_type": "code",
   "execution_count": 72,
   "metadata": {},
   "outputs": [],
   "source": [
    "df.columns = ['No. doors', 'Eco-friendly', 'Maintenance costs',\n",
    "              'No. passengers', 'Buying price', 'No. wheels']\n",
    "df = df[['Buying price', 'Maintenance costs', 'No. doors',\n",
    "         'No. passengers', 'No. wheels', 'Eco-friendly']]\n",
    "\n",
    "df.to_latex('../../tex/example_table.tex', column_format='ccccccc')"
   ]
  },
  {
   "cell_type": "markdown",
   "metadata": {},
   "source": [
    "## Relative frequency table"
   ]
  },
  {
   "cell_type": "code",
   "execution_count": 73,
   "metadata": {},
   "outputs": [],
   "source": [
    "dfs = []\n",
    "for col in df.columns:\n",
    "    dfs.append(df[col].value_counts())\n",
    "freq_df = pd.concat(dfs, axis=1).fillna(0).astype(int)"
   ]
  },
  {
   "cell_type": "code",
   "execution_count": 74,
   "metadata": {},
   "outputs": [],
   "source": [
    "dfs = []\n",
    "for col in ['Buying price', 'Maintenance costs']:\n",
    "    dfs.append(df[col].value_counts())\n",
    "num_freq_df = pd.concat(dfs, axis=1).fillna(0).astype(int)\n",
    "\n",
    "dfs = []\n",
    "for col in ['No. wheels', 'No. passengers', 'No. doors', 'Eco-friendly']:\n",
    "    dfs.append(df[col].value_counts())\n",
    "cat_freq_df = pd.concat(dfs, axis=1).fillna(0).astype(int)"
   ]
  },
  {
   "cell_type": "code",
   "execution_count": 75,
   "metadata": {},
   "outputs": [],
   "source": [
    "num_freq_df = num_freq_df.reindex(['L', 'M', 'H', 'V'])"
   ]
  },
  {
   "cell_type": "code",
   "execution_count": 76,
   "metadata": {},
   "outputs": [],
   "source": [
    "freq_df = pd.concat([cat_freq_df, num_freq_df]).fillna(0).astype(int)"
   ]
  },
  {
   "cell_type": "code",
   "execution_count": 77,
   "metadata": {},
   "outputs": [
    {
     "data": {
      "text/html": [
       "<div>\n",
       "<style scoped>\n",
       "    .dataframe tbody tr th:only-of-type {\n",
       "        vertical-align: middle;\n",
       "    }\n",
       "\n",
       "    .dataframe tbody tr th {\n",
       "        vertical-align: top;\n",
       "    }\n",
       "\n",
       "    .dataframe thead th {\n",
       "        text-align: right;\n",
       "    }\n",
       "</style>\n",
       "<table border=\"1\" class=\"dataframe\">\n",
       "  <thead>\n",
       "    <tr style=\"text-align: right;\">\n",
       "      <th></th>\n",
       "      <th>Buying price</th>\n",
       "      <th>Eco-friendly</th>\n",
       "      <th>Maintenance costs</th>\n",
       "      <th>No. doors</th>\n",
       "      <th>No. passengers</th>\n",
       "      <th>No. wheels</th>\n",
       "    </tr>\n",
       "  </thead>\n",
       "  <tbody>\n",
       "    <tr>\n",
       "      <th>0</th>\n",
       "      <td>0</td>\n",
       "      <td>6</td>\n",
       "      <td>0</td>\n",
       "      <td>2</td>\n",
       "      <td>0</td>\n",
       "      <td>0</td>\n",
       "    </tr>\n",
       "    <tr>\n",
       "      <th>1</th>\n",
       "      <td>0</td>\n",
       "      <td>4</td>\n",
       "      <td>0</td>\n",
       "      <td>0</td>\n",
       "      <td>1</td>\n",
       "      <td>0</td>\n",
       "    </tr>\n",
       "    <tr>\n",
       "      <th>2</th>\n",
       "      <td>0</td>\n",
       "      <td>0</td>\n",
       "      <td>0</td>\n",
       "      <td>5</td>\n",
       "      <td>2</td>\n",
       "      <td>2</td>\n",
       "    </tr>\n",
       "    <tr>\n",
       "      <th>3</th>\n",
       "      <td>0</td>\n",
       "      <td>0</td>\n",
       "      <td>0</td>\n",
       "      <td>0</td>\n",
       "      <td>1</td>\n",
       "      <td>0</td>\n",
       "    </tr>\n",
       "    <tr>\n",
       "      <th>4</th>\n",
       "      <td>0</td>\n",
       "      <td>0</td>\n",
       "      <td>0</td>\n",
       "      <td>3</td>\n",
       "      <td>2</td>\n",
       "      <td>7</td>\n",
       "    </tr>\n",
       "    <tr>\n",
       "      <th>5</th>\n",
       "      <td>0</td>\n",
       "      <td>0</td>\n",
       "      <td>0</td>\n",
       "      <td>0</td>\n",
       "      <td>3</td>\n",
       "      <td>0</td>\n",
       "    </tr>\n",
       "    <tr>\n",
       "      <th>7</th>\n",
       "      <td>0</td>\n",
       "      <td>0</td>\n",
       "      <td>0</td>\n",
       "      <td>0</td>\n",
       "      <td>1</td>\n",
       "      <td>0</td>\n",
       "    </tr>\n",
       "    <tr>\n",
       "      <th>8</th>\n",
       "      <td>0</td>\n",
       "      <td>0</td>\n",
       "      <td>0</td>\n",
       "      <td>0</td>\n",
       "      <td>0</td>\n",
       "      <td>1</td>\n",
       "    </tr>\n",
       "    <tr>\n",
       "      <th>L</th>\n",
       "      <td>2</td>\n",
       "      <td>0</td>\n",
       "      <td>2</td>\n",
       "      <td>0</td>\n",
       "      <td>0</td>\n",
       "      <td>0</td>\n",
       "    </tr>\n",
       "    <tr>\n",
       "      <th>M</th>\n",
       "      <td>2</td>\n",
       "      <td>0</td>\n",
       "      <td>5</td>\n",
       "      <td>0</td>\n",
       "      <td>0</td>\n",
       "      <td>0</td>\n",
       "    </tr>\n",
       "    <tr>\n",
       "      <th>H</th>\n",
       "      <td>4</td>\n",
       "      <td>0</td>\n",
       "      <td>2</td>\n",
       "      <td>0</td>\n",
       "      <td>0</td>\n",
       "      <td>0</td>\n",
       "    </tr>\n",
       "    <tr>\n",
       "      <th>V</th>\n",
       "      <td>2</td>\n",
       "      <td>0</td>\n",
       "      <td>1</td>\n",
       "      <td>0</td>\n",
       "      <td>0</td>\n",
       "      <td>0</td>\n",
       "    </tr>\n",
       "  </tbody>\n",
       "</table>\n",
       "</div>"
      ],
      "text/plain": [
       "   Buying price  Eco-friendly  Maintenance costs  No. doors  No. passengers  \\\n",
       "0             0             6                  0          2               0   \n",
       "1             0             4                  0          0               1   \n",
       "2             0             0                  0          5               2   \n",
       "3             0             0                  0          0               1   \n",
       "4             0             0                  0          3               2   \n",
       "5             0             0                  0          0               3   \n",
       "7             0             0                  0          0               1   \n",
       "8             0             0                  0          0               0   \n",
       "L             2             0                  2          0               0   \n",
       "M             2             0                  5          0               0   \n",
       "H             4             0                  2          0               0   \n",
       "V             2             0                  1          0               0   \n",
       "\n",
       "   No. wheels  \n",
       "0           0  \n",
       "1           0  \n",
       "2           2  \n",
       "3           0  \n",
       "4           7  \n",
       "5           0  \n",
       "7           0  \n",
       "8           1  \n",
       "L           0  \n",
       "M           0  \n",
       "H           0  \n",
       "V           0  "
      ]
     },
     "execution_count": 77,
     "metadata": {},
     "output_type": "execute_result"
    }
   ],
   "source": [
    "freq_df"
   ]
  },
  {
   "cell_type": "code",
   "execution_count": 78,
   "metadata": {},
   "outputs": [],
   "source": [
    "freq_df = freq_df[['Buying price', 'Maintenance costs', 'No. doors',\n",
    "                   'No. passengers', 'No. wheels', 'Eco-friendly']]"
   ]
  },
  {
   "cell_type": "code",
   "execution_count": 79,
   "metadata": {},
   "outputs": [
    {
     "data": {
      "text/html": [
       "<div>\n",
       "<style scoped>\n",
       "    .dataframe tbody tr th:only-of-type {\n",
       "        vertical-align: middle;\n",
       "    }\n",
       "\n",
       "    .dataframe tbody tr th {\n",
       "        vertical-align: top;\n",
       "    }\n",
       "\n",
       "    .dataframe thead th {\n",
       "        text-align: right;\n",
       "    }\n",
       "</style>\n",
       "<table border=\"1\" class=\"dataframe\">\n",
       "  <thead>\n",
       "    <tr style=\"text-align: right;\">\n",
       "      <th></th>\n",
       "      <th>Buying price</th>\n",
       "      <th>Maintenance costs</th>\n",
       "      <th>No. doors</th>\n",
       "      <th>No. passengers</th>\n",
       "      <th>No. wheels</th>\n",
       "      <th>Eco-friendly</th>\n",
       "    </tr>\n",
       "  </thead>\n",
       "  <tbody>\n",
       "    <tr>\n",
       "      <th>0</th>\n",
       "      <td>0</td>\n",
       "      <td>0</td>\n",
       "      <td>2</td>\n",
       "      <td>0</td>\n",
       "      <td>0</td>\n",
       "      <td>6</td>\n",
       "    </tr>\n",
       "    <tr>\n",
       "      <th>1</th>\n",
       "      <td>0</td>\n",
       "      <td>0</td>\n",
       "      <td>0</td>\n",
       "      <td>1</td>\n",
       "      <td>0</td>\n",
       "      <td>4</td>\n",
       "    </tr>\n",
       "    <tr>\n",
       "      <th>2</th>\n",
       "      <td>0</td>\n",
       "      <td>0</td>\n",
       "      <td>5</td>\n",
       "      <td>2</td>\n",
       "      <td>2</td>\n",
       "      <td>0</td>\n",
       "    </tr>\n",
       "    <tr>\n",
       "      <th>3</th>\n",
       "      <td>0</td>\n",
       "      <td>0</td>\n",
       "      <td>0</td>\n",
       "      <td>1</td>\n",
       "      <td>0</td>\n",
       "      <td>0</td>\n",
       "    </tr>\n",
       "    <tr>\n",
       "      <th>4</th>\n",
       "      <td>0</td>\n",
       "      <td>0</td>\n",
       "      <td>3</td>\n",
       "      <td>2</td>\n",
       "      <td>7</td>\n",
       "      <td>0</td>\n",
       "    </tr>\n",
       "    <tr>\n",
       "      <th>5</th>\n",
       "      <td>0</td>\n",
       "      <td>0</td>\n",
       "      <td>0</td>\n",
       "      <td>3</td>\n",
       "      <td>0</td>\n",
       "      <td>0</td>\n",
       "    </tr>\n",
       "    <tr>\n",
       "      <th>7</th>\n",
       "      <td>0</td>\n",
       "      <td>0</td>\n",
       "      <td>0</td>\n",
       "      <td>1</td>\n",
       "      <td>0</td>\n",
       "      <td>0</td>\n",
       "    </tr>\n",
       "    <tr>\n",
       "      <th>8</th>\n",
       "      <td>0</td>\n",
       "      <td>0</td>\n",
       "      <td>0</td>\n",
       "      <td>0</td>\n",
       "      <td>1</td>\n",
       "      <td>0</td>\n",
       "    </tr>\n",
       "    <tr>\n",
       "      <th>L</th>\n",
       "      <td>2</td>\n",
       "      <td>2</td>\n",
       "      <td>0</td>\n",
       "      <td>0</td>\n",
       "      <td>0</td>\n",
       "      <td>0</td>\n",
       "    </tr>\n",
       "    <tr>\n",
       "      <th>M</th>\n",
       "      <td>2</td>\n",
       "      <td>5</td>\n",
       "      <td>0</td>\n",
       "      <td>0</td>\n",
       "      <td>0</td>\n",
       "      <td>0</td>\n",
       "    </tr>\n",
       "    <tr>\n",
       "      <th>H</th>\n",
       "      <td>4</td>\n",
       "      <td>2</td>\n",
       "      <td>0</td>\n",
       "      <td>0</td>\n",
       "      <td>0</td>\n",
       "      <td>0</td>\n",
       "    </tr>\n",
       "    <tr>\n",
       "      <th>V</th>\n",
       "      <td>2</td>\n",
       "      <td>1</td>\n",
       "      <td>0</td>\n",
       "      <td>0</td>\n",
       "      <td>0</td>\n",
       "      <td>0</td>\n",
       "    </tr>\n",
       "  </tbody>\n",
       "</table>\n",
       "</div>"
      ],
      "text/plain": [
       "   Buying price  Maintenance costs  No. doors  No. passengers  No. wheels  \\\n",
       "0             0                  0          2               0           0   \n",
       "1             0                  0          0               1           0   \n",
       "2             0                  0          5               2           2   \n",
       "3             0                  0          0               1           0   \n",
       "4             0                  0          3               2           7   \n",
       "5             0                  0          0               3           0   \n",
       "7             0                  0          0               1           0   \n",
       "8             0                  0          0               0           1   \n",
       "L             2                  2          0               0           0   \n",
       "M             2                  5          0               0           0   \n",
       "H             4                  2          0               0           0   \n",
       "V             2                  1          0               0           0   \n",
       "\n",
       "   Eco-friendly  \n",
       "0             6  \n",
       "1             4  \n",
       "2             0  \n",
       "3             0  \n",
       "4             0  \n",
       "5             0  \n",
       "7             0  \n",
       "8             0  \n",
       "L             0  \n",
       "M             0  \n",
       "H             0  \n",
       "V             0  "
      ]
     },
     "execution_count": 79,
     "metadata": {},
     "output_type": "execute_result"
    }
   ],
   "source": [
    "freq_df"
   ]
  },
  {
   "cell_type": "code",
   "execution_count": 80,
   "metadata": {},
   "outputs": [],
   "source": [
    "rel_freq_df = pd.DataFrame({})\n",
    "for col in freq_df.columns:\n",
    "    rel_freq_df[col] = freq_df[col].apply(lambda x: fraction(x))\n",
    "\n",
    "rel_freq_df.to_latex('../../tex/relative_freq.tex', column_format='ccccccc')"
   ]
  },
  {
   "cell_type": "markdown",
   "metadata": {},
   "source": [
    "## Get virtual modes"
   ]
  },
  {
   "cell_type": "code",
   "execution_count": 27,
   "metadata": {},
   "outputs": [],
   "source": [
    "def get_virtual_modes(X, n_clusters, dissim, df=df):\n",
    "    n_attrs = X.shape[1]\n",
    "    centroids = np.empty((n_clusters, n_attrs), dtype='object')\n",
    "    # determine frequencies of attributes\n",
    "    for iattr in range(n_attrs):\n",
    "        freq = defaultdict(int)\n",
    "        for curattr in X[:, iattr]:\n",
    "            freq[curattr] += 1\n",
    "        # Sample centroids using the probabilities of attributes.\n",
    "        # (I assume that's what's meant in the Huang [1998] paper; it works,\n",
    "        # at least)\n",
    "        # Note: sampling using population in static list with as many choices\n",
    "        # as frequency counts. Since the counts are small integers,\n",
    "        # memory consumption is low.\n",
    "        choices = [chc for chc, wght in freq.items() for _ in range(wght)]\n",
    "        # So that we are consistent between Python versions,\n",
    "        # each with different dict ordering.\n",
    "        choices = sorted(choices)\n",
    "        centroids[:, iattr] = np.random.choice(choices, n_clusters)\n",
    "\n",
    "    return centroids"
   ]
  },
  {
   "cell_type": "code",
   "execution_count": 32,
   "metadata": {},
   "outputs": [],
   "source": [
    "np.random.seed(0)\n",
    "mu_tilde = get_virtual_modes(X, 3, dissim)"
   ]
  },
  {
   "cell_type": "code",
   "execution_count": 42,
   "metadata": {},
   "outputs": [
    {
     "data": {
      "text/plain": [
       "array([[2, 0, 'L', 4, 'V', 4],\n",
       "       [0, 1, 'M', 5, 'V', 4],\n",
       "       [2, 1, 'L', 5, 'H', 4]], dtype=object)"
      ]
     },
     "execution_count": 42,
     "metadata": {},
     "output_type": "execute_result"
    }
   ],
   "source": [
    "mu_tilde"
   ]
  },
  {
   "cell_type": "code",
   "execution_count": 33,
   "metadata": {
    "scrolled": true
   },
   "outputs": [
    {
     "data": {
      "text/html": [
       "<div>\n",
       "<style scoped>\n",
       "    .dataframe tbody tr th:only-of-type {\n",
       "        vertical-align: middle;\n",
       "    }\n",
       "\n",
       "    .dataframe tbody tr th {\n",
       "        vertical-align: top;\n",
       "    }\n",
       "\n",
       "    .dataframe thead th {\n",
       "        text-align: right;\n",
       "    }\n",
       "</style>\n",
       "<table border=\"1\" class=\"dataframe\">\n",
       "  <thead>\n",
       "    <tr style=\"text-align: right;\">\n",
       "      <th></th>\n",
       "      <th>doors</th>\n",
       "      <th>eco_friendly</th>\n",
       "      <th>maintenance</th>\n",
       "      <th>passengers</th>\n",
       "      <th>price</th>\n",
       "      <th>wheels</th>\n",
       "    </tr>\n",
       "  </thead>\n",
       "  <tbody>\n",
       "    <tr>\n",
       "      <th>0</th>\n",
       "      <td>2</td>\n",
       "      <td>0</td>\n",
       "      <td>L</td>\n",
       "      <td>4</td>\n",
       "      <td>V</td>\n",
       "      <td>4</td>\n",
       "    </tr>\n",
       "    <tr>\n",
       "      <th>1</th>\n",
       "      <td>0</td>\n",
       "      <td>1</td>\n",
       "      <td>M</td>\n",
       "      <td>5</td>\n",
       "      <td>V</td>\n",
       "      <td>4</td>\n",
       "    </tr>\n",
       "    <tr>\n",
       "      <th>2</th>\n",
       "      <td>2</td>\n",
       "      <td>1</td>\n",
       "      <td>L</td>\n",
       "      <td>5</td>\n",
       "      <td>H</td>\n",
       "      <td>4</td>\n",
       "    </tr>\n",
       "  </tbody>\n",
       "</table>\n",
       "</div>"
      ],
      "text/plain": [
       "  doors eco_friendly maintenance passengers price wheels\n",
       "0     2            0           L          4     V      4\n",
       "1     0            1           M          5     V      4\n",
       "2     2            1           L          5     H      4"
      ]
     },
     "execution_count": 33,
     "metadata": {},
     "output_type": "execute_result"
    }
   ],
   "source": [
    "pd.DataFrame(mu_tilde, columns=df.columns)"
   ]
  },
  {
   "cell_type": "code",
   "execution_count": 45,
   "metadata": {},
   "outputs": [],
   "source": [
    "tilde = '\\\\begin{equation}\\n'\n",
    "tilde += '\\\\nonumber\\n'\n",
    "tilde += '\\\\begin{aligned}\\n'\n",
    "tilde += '\\\\tilde{\\mu} = \\{ '\n",
    "for i in range(len(mu_tilde)):\n",
    "    row = mu_tilde[i]\n",
    "    mode_str = ' & \\\\left['\n",
    "    for compt in row:\n",
    "        mode_str += '\\\\text{' + str(compt) + '}, \\\\ '\n",
    "    mode_str = mode_str[:-4]\n",
    "    mode_str += '\\\\right], \\\\\\ '\n",
    "    tilde += mode_str\n",
    "tilde = tilde[:-5]\n",
    "tilde += '\\} \\\\\\ \\n'\n",
    "tilde += '\\\\end{aligned}\\n'\n",
    "tilde += '\\\\end{equation}'"
   ]
  },
  {
   "cell_type": "code",
   "execution_count": 46,
   "metadata": {},
   "outputs": [
    {
     "data": {
      "text/plain": [
       "'\\\\begin{equation}\\n\\\\nonumber\\n\\\\begin{aligned}\\n\\\\tilde{\\\\mu} = \\\\{  & \\\\left[\\\\text{2}, \\\\ \\\\text{0}, \\\\ \\\\text{L}, \\\\ \\\\text{4}, \\\\ \\\\text{V}, \\\\ \\\\text{4}\\\\right], \\\\\\\\  & \\\\left[\\\\text{0}, \\\\ \\\\text{1}, \\\\ \\\\text{M}, \\\\ \\\\text{5}, \\\\ \\\\text{V}, \\\\ \\\\text{4}\\\\right], \\\\\\\\  & \\\\left[\\\\text{2}, \\\\ \\\\text{1}, \\\\ \\\\text{L}, \\\\ \\\\text{5}, \\\\ \\\\text{H}, \\\\ \\\\text{4}\\\\right]\\\\} \\\\\\\\ \\n\\\\end{aligned}\\n\\\\end{equation}'"
      ]
     },
     "execution_count": 46,
     "metadata": {},
     "output_type": "execute_result"
    }
   ],
   "source": [
    "tilde"
   ]
  },
  {
   "cell_type": "code",
   "execution_count": 47,
   "metadata": {},
   "outputs": [],
   "source": [
    "with open('../../tex/huang_virtual_modes.tex', 'w') as f:\n",
    "    f.write(tilde)"
   ]
  },
  {
   "cell_type": "markdown",
   "metadata": {},
   "source": [
    "## Replace $\\tilde \\mu$ with datapoints"
   ]
  },
  {
   "cell_type": "code",
   "execution_count": 83,
   "metadata": {},
   "outputs": [],
   "source": [
    "mu_df = deepcopy(df)\n",
    "mu_df['Dissimilarity'] = dissim(X, mu_tilde[0])\n",
    "\n",
    "sorted_mu_df = mu_df.sort_values('Dissimilarity')\n",
    "sorted_mu_df.to_latex('../../tex/huang_dissim.tex', column_format='cccccccc')"
   ]
  },
  {
   "cell_type": "code",
   "execution_count": 38,
   "metadata": {
    "scrolled": true
   },
   "outputs": [],
   "source": [
    "np.random.seed(0)\n",
    "mu_bar = init_huang(X, 3, dissim)"
   ]
  },
  {
   "cell_type": "code",
   "execution_count": 39,
   "metadata": {},
   "outputs": [],
   "source": [
    "idxs = []\n",
    "for mu in mu_bar:\n",
    "    idx = np.where(np.all(mu == X, axis=1))\n",
    "    idxs.append(idx[0][0])\n",
    "\n",
    "init_modes = df.iloc[idxs]"
   ]
  },
  {
   "cell_type": "code",
   "execution_count": 40,
   "metadata": {},
   "outputs": [
    {
     "data": {
      "text/html": [
       "<div>\n",
       "<style scoped>\n",
       "    .dataframe tbody tr th:only-of-type {\n",
       "        vertical-align: middle;\n",
       "    }\n",
       "\n",
       "    .dataframe tbody tr th {\n",
       "        vertical-align: top;\n",
       "    }\n",
       "\n",
       "    .dataframe thead th {\n",
       "        text-align: right;\n",
       "    }\n",
       "</style>\n",
       "<table border=\"1\" class=\"dataframe\">\n",
       "  <thead>\n",
       "    <tr style=\"text-align: right;\">\n",
       "      <th></th>\n",
       "      <th>doors</th>\n",
       "      <th>eco_friendly</th>\n",
       "      <th>maintenance</th>\n",
       "      <th>passengers</th>\n",
       "      <th>price</th>\n",
       "      <th>wheels</th>\n",
       "    </tr>\n",
       "  </thead>\n",
       "  <tbody>\n",
       "    <tr>\n",
       "      <th>6</th>\n",
       "      <td>2</td>\n",
       "      <td>1</td>\n",
       "      <td>L</td>\n",
       "      <td>4</td>\n",
       "      <td>M</td>\n",
       "      <td>4</td>\n",
       "    </tr>\n",
       "    <tr>\n",
       "      <th>5</th>\n",
       "      <td>2</td>\n",
       "      <td>1</td>\n",
       "      <td>M</td>\n",
       "      <td>5</td>\n",
       "      <td>M</td>\n",
       "      <td>4</td>\n",
       "    </tr>\n",
       "    <tr>\n",
       "      <th>4</th>\n",
       "      <td>4</td>\n",
       "      <td>1</td>\n",
       "      <td>L</td>\n",
       "      <td>5</td>\n",
       "      <td>H</td>\n",
       "      <td>4</td>\n",
       "    </tr>\n",
       "  </tbody>\n",
       "</table>\n",
       "</div>"
      ],
      "text/plain": [
       "   doors  eco_friendly maintenance  passengers price  wheels\n",
       "6      2             1           L           4     M       4\n",
       "5      2             1           M           5     M       4\n",
       "4      4             1           L           5     H       4"
      ]
     },
     "execution_count": 40,
     "metadata": {},
     "output_type": "execute_result"
    }
   ],
   "source": [
    "init_modes"
   ]
  },
  {
   "cell_type": "code",
   "execution_count": 48,
   "metadata": {},
   "outputs": [
    {
     "data": {
      "text/plain": [
       "array([[2, 1, 'L', 4, 'M', 4],\n",
       "       [2, 1, 'M', 5, 'M', 4],\n",
       "       [4, 1, 'L', 5, 'H', 4]], dtype=object)"
      ]
     },
     "execution_count": 48,
     "metadata": {},
     "output_type": "execute_result"
    }
   ],
   "source": [
    "mu_bar"
   ]
  },
  {
   "cell_type": "code",
   "execution_count": 49,
   "metadata": {},
   "outputs": [],
   "source": [
    "bar = '\\\\begin{equation}\\n'\n",
    "bar += '\\\\nonumber\\n'\n",
    "bar += '\\\\begin{aligned}\\n'\n",
    "bar += '\\\\bar{\\mu} = \\{ '\n",
    "for i in range(len(mu_bar)):\n",
    "    row = mu_bar[i]\n",
    "    mode_str = ' & \\\\left['\n",
    "    for compt in row:\n",
    "        mode_str += '\\\\text{' + str(compt) + '}, \\\\ '\n",
    "    mode_str = mode_str[:-4]\n",
    "    mode_str += '\\\\right], \\\\\\ '\n",
    "    bar += mode_str\n",
    "bar = bar[:-5]\n",
    "bar += '\\} \\\\\\ \\n'\n",
    "bar += '\\\\end{aligned}\\n'\n",
    "bar += '\\\\end{equation}'"
   ]
  },
  {
   "cell_type": "code",
   "execution_count": 50,
   "metadata": {},
   "outputs": [],
   "source": [
    "with open('../../tex/huang_initial_modes.tex', 'w') as f:\n",
    "    f.write(bar)"
   ]
  },
  {
   "cell_type": "code",
   "execution_count": null,
   "metadata": {},
   "outputs": [],
   "source": []
  }
 ],
 "metadata": {
  "kernelspec": {
   "display_name": "Python 3",
   "language": "python",
   "name": "python3"
  },
  "language_info": {
   "codemirror_mode": {
    "name": "ipython",
    "version": 3
   },
   "file_extension": ".py",
   "mimetype": "text/x-python",
   "name": "python",
   "nbconvert_exporter": "python",
   "pygments_lexer": "ipython3",
   "version": "3.6.5"
  }
 },
 "nbformat": 4,
 "nbformat_minor": 2
}
