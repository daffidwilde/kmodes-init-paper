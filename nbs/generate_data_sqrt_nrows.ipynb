{
 "cells": [
  {
   "cell_type": "code",
   "execution_count": 4,
   "metadata": {},
   "outputs": [],
   "source": [
    "from collections import namedtuple\n",
    "import time\n",
    "\n",
    "from kmodes.kmodes import KModes\n",
    "from kmodes.util import dissim\n",
    "\n",
    "import matplotlib.pyplot as plt\n",
    "import numpy as np\n",
    "import pandas as pd\n",
    "import tqdm\n"
   ]
  },
  {
   "cell_type": "code",
   "execution_count": 5,
   "metadata": {},
   "outputs": [],
   "source": [
    "Record = namedtuple(\n",
    "    \"Record\",\n",
    "    [\n",
    "        \"n_clusters\",\n",
    "        \"initialisation\",\n",
    "        \"seed\",\n",
    "        \"initial_cost\",\n",
    "        \"final_cost\",\n",
    "        \"n_iterations\",\n",
    "        \"time\",\n",
    "    ],\n",
    ")\n",
    "\n",
    "\n",
    "def find_clustering(data, n_clusters, initialisation, seed):\n",
    "\n",
    "    start = time.perf_counter()\n",
    "    km = KModes(n_clusters, init=initialisation, n_init=1, random_state=seed)\n",
    "    km.fit(data)\n",
    "    end = time.perf_counter()\n",
    "\n",
    "    return km.epoch_costs_[0], km.cost_, km.n_iter_, end - start\n",
    "\n",
    "\n",
    "def run_experiment(dataset, initialisation, repetitions, n_clusters=None):\n",
    "\n",
    "    data = dataset.drop(\"class\", axis=1)\n",
    "    n_clusters = dataset[\"class\"].nunique() if n_clusters is None else n_clusters\n",
    "\n",
    "    results = []\n",
    "    for seed in tqdm.tqdm(range(repetitions)):\n",
    "        initial_cost, final_cost, n_iter, time = find_clustering(\n",
    "            data, n_clusters, initialisation, seed\n",
    "        )\n",
    "\n",
    "        record = Record(\n",
    "            n_clusters,\n",
    "            initialisation,\n",
    "            seed,\n",
    "            initial_cost,\n",
    "            final_cost,\n",
    "            n_iter,\n",
    "            time,\n",
    "        )\n",
    "        results.append(record)\n",
    "\n",
    "    return pd.DataFrame(results)\n",
    "\n",
    "\n",
    "def main(name, repetitions=50, root=\"../data/\", destination=None, n_clusters=None):\n",
    "\n",
    "    data = pd.read_csv(f\"{root}{name}.csv\", na_values=[\"?\", \"dna\"])\n",
    "    dataset = data.dropna()\n",
    "\n",
    "    dfs = [\n",
    "        run_experiment(dataset, initialisation, repetitions, n_clusters)\n",
    "        for initialisation in (\"cao\", \"huang\", \"matching\")\n",
    "    ]\n",
    "\n",
    "    df = pd.concat(dfs, axis=0, ignore_index=True)\n",
    "    if destination is not None:\n",
    "        df.to_csv(destination + f\"{name}_results.csv\", index=False)\n",
    "\n",
    "    return df\n"
   ]
  },
  {
   "cell_type": "code",
   "execution_count": 6,
   "metadata": {},
   "outputs": [
    {
     "name": "stderr",
     "output_type": "stream",
     "text": [
      "100%|██████████| 50/50 [00:17<00:00,  2.83it/s]\n",
      "100%|██████████| 50/50 [00:12<00:00,  4.08it/s]\n",
      "100%|██████████| 50/50 [00:09<00:00,  5.46it/s]\n",
      "100%|██████████| 50/50 [04:03<00:00,  4.87s/it]\n",
      "100%|██████████| 50/50 [04:27<00:00,  5.36s/it]\n",
      "100%|██████████| 50/50 [02:07<00:00,  2.55s/it]\n",
      "100%|██████████| 50/50 [00:11<00:00,  4.48it/s]\n",
      "100%|██████████| 50/50 [00:10<00:00,  4.57it/s]\n",
      "100%|██████████| 50/50 [00:07<00:00,  6.92it/s]\n",
      "100%|██████████| 50/50 [00:01<00:00, 25.05it/s]\n",
      "100%|██████████| 50/50 [00:01<00:00, 30.66it/s]\n",
      "100%|██████████| 50/50 [00:01<00:00, 37.31it/s]\n"
     ]
    }
   ],
   "source": [
    "optimal_nclusters = (10, 17, 6, 4) # max_clusters = int(sqrt(nrows))\n",
    "\n",
    "for name, n_clusters in zip(\n",
    "    (\"breast_cancer\", \"mushroom\", \"soybean\", \"zoo\"), optimal_nclusters\n",
    "):\n",
    "    main(name, root=\"../data/\", destination=\"../data/sqrt_nrows/\", n_clusters=n_clusters)\n"
   ]
  },
  {
   "cell_type": "code",
   "execution_count": null,
   "metadata": {},
   "outputs": [],
   "source": []
  }
 ],
 "metadata": {
  "kernelspec": {
   "display_name": "Python 3",
   "language": "python",
   "name": "python3"
  },
  "language_info": {
   "codemirror_mode": {
    "name": "ipython",
    "version": 3
   },
   "file_extension": ".py",
   "mimetype": "text/x-python",
   "name": "python",
   "nbconvert_exporter": "python",
   "pygments_lexer": "ipython3",
   "version": "3.7.3"
  }
 },
 "nbformat": 4,
 "nbformat_minor": 2
}
