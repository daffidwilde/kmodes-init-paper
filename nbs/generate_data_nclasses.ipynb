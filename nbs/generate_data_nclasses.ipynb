{
 "cells": [
  {
   "cell_type": "code",
   "execution_count": 1,
   "metadata": {},
   "outputs": [],
   "source": [
    "from collections import namedtuple\n",
    "import time\n",
    "import warnings\n",
    "\n",
    "from kmodes.kmodes import KModes\n",
    "from kmodes.util import dissim\n",
    "\n",
    "import matplotlib.pyplot as plt\n",
    "import numpy as np\n",
    "import pandas as pd\n",
    "import tqdm\n"
   ]
  },
  {
   "cell_type": "code",
   "execution_count": 2,
   "metadata": {},
   "outputs": [],
   "source": [
    "Record = namedtuple(\n",
    "    \"Record\",\n",
    "    [\n",
    "        \"n_clusters\",\n",
    "        \"initialisation\",\n",
    "        \"seed\",\n",
    "        \"initial_cost\",\n",
    "        \"final_cost\",\n",
    "        \"n_iterations\",\n",
    "        \"time\",\n",
    "    ],\n",
    ")\n",
    "\n",
    "\n",
    "def find_clustering(data, n_clusters, initialisation, seed):\n",
    "\n",
    "    start = time.perf_counter()\n",
    "    km = KModes(n_clusters, init=initialisation, n_init=1, random_state=seed)\n",
    "    km.fit(data)\n",
    "    end = time.perf_counter()\n",
    "\n",
    "    return km.epoch_costs_[0], km.cost_, km.n_iter_, end - start\n",
    "\n",
    "\n",
    "def run_experiment(dataset, initialisation, repetitions):\n",
    "\n",
    "    data = dataset.drop(\"class\", axis=1)\n",
    "    n_clusters = dataset[\"class\"].nunique()\n",
    "\n",
    "    results = []\n",
    "    for seed in tqdm.tqdm(range(repetitions)):\n",
    "        initial_cost, final_cost, n_iter, time = find_clustering(\n",
    "            data, n_clusters, initialisation, seed\n",
    "        )\n",
    "\n",
    "        record = Record(\n",
    "            n_clusters, initialisation, seed, initial_cost, final_cost, n_iter, time\n",
    "        )\n",
    "        results.append(record)\n",
    "\n",
    "    return pd.DataFrame(results)\n",
    "\n",
    "\n",
    "def main(name, repetitions=250, root=\"../data/\", destination=None):\n",
    "\n",
    "    data = pd.read_csv(f\"{root}{name}.csv\", na_values=[\"?\", \"dna\"])\n",
    "    dataset = data.dropna()\n",
    "\n",
    "    dfs = [\n",
    "        run_experiment(dataset, initialisation, repetitions)\n",
    "        for initialisation in (\"cao\", \"huang\", \"matching\")\n",
    "    ]\n",
    "\n",
    "    df = pd.concat(dfs, axis=0, ignore_index=True)\n",
    "    if destination is not None:\n",
    "        df.to_csv(destination + f\"{name}_results.csv\", index=False)\n",
    "\n",
    "    return df\n"
   ]
  },
  {
   "cell_type": "code",
   "execution_count": 3,
   "metadata": {},
   "outputs": [
    {
     "name": "stderr",
     "output_type": "stream",
     "text": [
      "100%|██████████| 250/250 [00:33<00:00,  7.50it/s]\n",
      "100%|██████████| 250/250 [00:26<00:00,  9.40it/s]\n",
      "100%|██████████| 250/250 [00:22<00:00, 11.04it/s]\n",
      "100%|██████████| 250/250 [04:04<00:00,  1.02it/s]\n",
      "100%|██████████| 250/250 [08:00<00:00,  1.92s/it]\n",
      "100%|██████████| 250/250 [05:53<00:00,  1.41s/it]\n",
      "100%|██████████| 250/250 [01:23<00:00,  2.99it/s]\n",
      "100%|██████████| 250/250 [01:53<00:00,  2.20it/s]\n",
      "100%|██████████| 250/250 [01:00<00:00,  4.17it/s]\n",
      "100%|██████████| 250/250 [07:23<00:00,  1.77s/it]\n",
      "100%|██████████| 250/250 [07:05<00:00,  1.70s/it]\n",
      "100%|██████████| 250/250 [05:39<00:00,  1.36s/it]\n"
     ]
    }
   ],
   "source": [
    "for name in (\"breast_cancer\", \"mushroom\", \"soybean\", \"nursery\"):\n",
    "    main(name, root=\"../data/\", destination=\"../data/nclasses/\")\n"
   ]
  },
  {
   "cell_type": "code",
   "execution_count": null,
   "metadata": {},
   "outputs": [],
   "source": []
  }
 ],
 "metadata": {
  "kernelspec": {
   "display_name": "Python 3",
   "language": "python",
   "name": "python3"
  },
  "language_info": {
   "codemirror_mode": {
    "name": "ipython",
    "version": 3
   },
   "file_extension": ".py",
   "mimetype": "text/x-python",
   "name": "python",
   "nbconvert_exporter": "python",
   "pygments_lexer": "ipython3",
   "version": "3.7.3"
  }
 },
 "nbformat": 4,
 "nbformat_minor": 2
}
