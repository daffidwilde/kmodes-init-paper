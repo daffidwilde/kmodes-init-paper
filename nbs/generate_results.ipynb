{
 "cells": [
  {
   "cell_type": "markdown",
   "metadata": {},
   "source": [
    "# Write results to `tex` files\n",
    "---\n",
    "\n",
    "This notebook contains the workings out for generating our results in the $k$-modes write-up.\n",
    "\n",
    "We will be examining a selection of well-known categorical datasets and running our algorithm against them to test for their ability in:\n",
    "\n",
    "- **clustering** (using the objective function)\n",
    "- **predictive modelling** (typical classification-esque metrics)\n",
    "- computational speed\n",
    "\n",
    "### Each set of results will be found by manipulating some `pandas.DataFrame` and then written to a `tex` file."
   ]
  },
  {
   "cell_type": "code",
   "execution_count": 1,
   "metadata": {},
   "outputs": [],
   "source": [
    "from kmodes.kmodes import KModes\n",
    "from sklearn.model_selection import train_test_split\n",
    "from sklearn.metrics import adjusted_rand_score, adjusted_mutual_info_score, \\\n",
    "                            homogeneity_score, completeness_score\n",
    "\n",
    "import pandas as pd\n",
    "import numpy as np\n",
    "import time"
   ]
  },
  {
   "cell_type": "markdown",
   "metadata": {},
   "source": [
    "# Read in datasets"
   ]
  },
  {
   "cell_type": "code",
   "execution_count": 101,
   "metadata": {},
   "outputs": [],
   "source": [
    "soybean = pd.read_csv('../data/soybean.csv', na_values='?')\n",
    "mushroom = pd.read_csv('../data/mushroom.csv')\n",
    "zoo = pd.read_csv('../data/zoo.csv')\n",
    "breast_cancer = pd.read_csv('../data/breast_cancer.csv')\n",
    "vehicle = pd.read_csv('../data/vehicle.csv')\n",
    "\n",
    "for dataset in [soybean, mushroom, zoo, breast_cancer, vehicle]:\n",
    "    dataset.dropna(axis=0, inplace=True)"
   ]
  },
  {
   "cell_type": "markdown",
   "metadata": {},
   "source": [
    "# Define functions to get results tables for each approach"
   ]
  },
  {
   "cell_type": "code",
   "execution_count": 103,
   "metadata": {},
   "outputs": [],
   "source": [
    "def split(data):\n",
    "    \n",
    "    X = data.drop('class', axis=1).values\n",
    "    y = data['class'].values\n",
    "\n",
    "    return X, y\n",
    "\n",
    "def get_predictive_results(X, y, init, n_clusters, seed):\n",
    "\n",
    "    np.random.seed(seed)\n",
    "\n",
    "    X_train, X_test, y_train, y_test = train_test_split(X, y,\n",
    "                                                        test_size=0.3,\n",
    "                                                        random_state=seed,\n",
    "                                                        stratify=y)\n",
    "    start = time.clock()\n",
    "    km = KModes(n_clusters, init=init, n_init=25)\n",
    "    km.fit(X_train)\n",
    "    y_pred = km.predict(X_test)\n",
    "    time_taken = time.clock() - start\n",
    "\n",
    "    adj_rand_idx = adjusted_rand_score(y_test, y_pred)\n",
    "    adj_mutual_info = adjusted_mutual_info_score(y_test, y_pred)\n",
    "    homogeneity = homogeneity_score(y_test, y_pred)\n",
    "    completeness = completeness_score(y_test, y_pred)\n",
    "\n",
    "    result = pd.DataFrame({'initialisation': init,\n",
    "                           'adjusted_rand_index': adj_rand_idx,\n",
    "                           'adjusted_mutual_information': adj_mutual_info,\n",
    "                           'homogeneity': homogeneity,\n",
    "                           'completeness': completeness,\n",
    "                           'time': time_taken}, index=[''])\n",
    "    return result\n",
    "\n",
    "def get_clustering_results(data, init, n_clusters, seed):\n",
    "\n",
    "    np.random.seed(seed)\n",
    "\n",
    "    data = data.drop('class', axis=1)\n",
    "\n",
    "    start = time.clock()\n",
    "    km = KModes(n_clusters, init=init, n_init=25)\n",
    "    km.fit_predict(data)\n",
    "    time_taken = time.clock() - start\n",
    "\n",
    "    result = pd.DataFrame({'initialisation': init,\n",
    "                           'objective': km.cost_,\n",
    "                           'iterations': km.n_iter_,\n",
    "                           'time': time_taken}, index=[''])\n",
    "    return result\n",
    "\n",
    "def get_init_results(data, init, n_clusters, max_seed):\n",
    "\n",
    "    X, y = split(data)\n",
    "    clust_dfs, pred_dfs = [], []\n",
    "\n",
    "    for seed in range(max_seed):\n",
    "\n",
    "        clust_result = get_clustering_results(data, init, n_clusters, seed)\n",
    "        clust_dfs.append(clust_result)\n",
    "\n",
    "        pred_result = get_predictive_results(X, y, init, n_clusters, seed)\n",
    "        pred_dfs.append(pred_result)\n",
    "\n",
    "    clust_results = pd.concat(clust_dfs)\n",
    "    pred_results = pd.concat(pred_dfs)\n",
    "\n",
    "    return clust_results, pred_results\n",
    "\n",
    "def latex_formatting(results):\n",
    "\n",
    "    mean_df = results.groupby('initialisation').mean().reset_index()\n",
    "    mean_df[''] = 'mean'\n",
    "\n",
    "    std_df = results.groupby('initialisation').std().reset_index()\n",
    "    std_df[''] = 'std'\n",
    "    \n",
    "    return pd.concat([mean_df, std_df]).groupby(['initialisation', '']).sum().T.round(4)"
   ]
  },
  {
   "cell_type": "markdown",
   "metadata": {},
   "source": [
    "# Collect results"
   ]
  },
  {
   "cell_type": "code",
   "execution_count": null,
   "metadata": {},
   "outputs": [],
   "source": [
    "%%time\n",
    "\n",
    "n_clusters = 15\n",
    "max_seed = 5\n",
    "\n",
    "clust_results, pred_results = [], []\n",
    "for init in ['cao', 'huang', 'random', 'matching_best', 'matching_worst', 'matching_random']:\n",
    "    clust_result, pred_result = get_init_results(soybean, init, n_clusters, max_seed)\n",
    "    clust_results.append(clust_result)\n",
    "    pred_results.append(pred_result)\n",
    "\n",
    "cluster_results = pd.concat(clust_results)\n",
    "predict_results = pd.concat(pred_results)\n",
    "latex_formatting(cluster_results).to_latex('../test/soybean_clust_results.tex', column_format='ccccccccccccc')\n",
    "latex_formatting(predict_results).to_latex('../test/soybean_pred_results.tex', column_format='ccccccccccccc')"
   ]
  },
  {
   "cell_type": "code",
   "execution_count": null,
   "metadata": {},
   "outputs": [],
   "source": []
  }
 ],
 "metadata": {
  "kernelspec": {
   "display_name": "Python 3",
   "language": "python",
   "name": "python3"
  },
  "language_info": {
   "codemirror_mode": {
    "name": "ipython",
    "version": 3
   },
   "file_extension": ".py",
   "mimetype": "text/x-python",
   "name": "python",
   "nbconvert_exporter": "python",
   "pygments_lexer": "ipython3",
   "version": "3.6.4"
  }
 },
 "nbformat": 4,
 "nbformat_minor": 2
}
