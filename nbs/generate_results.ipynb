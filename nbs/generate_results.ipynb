{
 "cells": [
  {
   "cell_type": "code",
   "execution_count": 1,
   "metadata": {},
   "outputs": [],
   "source": [
    "from collections import namedtuple\n",
    "import time\n",
    "import warnings\n",
    "\n",
    "from kmodes.kmodes import KModes\n",
    "from kmodes.util import dissim\n",
    "from sklearn.metrics import silhouette_score\n",
    "\n",
    "import matplotlib.pyplot as plt\n",
    "import numpy as np\n",
    "import pandas as pd\n",
    "\n",
    "%matplotlib inline\n",
    "plt.style.use(\"seaborn-colorblind\")\n",
    "warnings.filterwarnings(\"ignore\")"
   ]
  },
  {
   "cell_type": "markdown",
   "metadata": {},
   "source": [
    "# Generating results data"
   ]
  },
  {
   "cell_type": "code",
   "execution_count": 2,
   "metadata": {},
   "outputs": [],
   "source": [
    "Record = namedtuple(\n",
    "    \"Record\",\n",
    "    [\n",
    "        \"n_clusters\",\n",
    "        \"initialisation\",\n",
    "        \"seed\",\n",
    "        \"initial_cost\",\n",
    "        \"final_cost\",\n",
    "        \"silhouette\",\n",
    "        \"n_iterations\",\n",
    "        \"time\",\n",
    "    ]\n",
    ")"
   ]
  },
  {
   "cell_type": "code",
   "execution_count": 3,
   "metadata": {},
   "outputs": [],
   "source": [
    "def find_clustering(data, n_clusters, initialisation, seed):\n",
    "\n",
    "    start = time.perf_counter()\n",
    "    km = KModes(\n",
    "        n_clusters,\n",
    "        init=initialisation,\n",
    "        n_init=1,\n",
    "        random_state=seed,\n",
    "    )\n",
    "    km.fit(data)\n",
    "    end = time.perf_counter()\n",
    "\n",
    "    dissim_matrix = np.zeros((data.shape[0], data.shape[0]))\n",
    "    for i, row in enumerate(data):\n",
    "        dissim_matrix[i, :] = dissim.matching_dissim(data, row)\n",
    "\n",
    "    silhouette = silhouette_score(dissim_matrix, km.labels_, metric=\"precomputed\")\n",
    "\n",
    "    return km.epoch_costs_[0], km.cost_, silhouette, km.n_iter_, end - start\n",
    "\n",
    "\n",
    "def run_experiment(dataset, initialisation, repetitions):\n",
    "\n",
    "    data = dataset.drop(\"class\", axis=1)\n",
    "    n_clusters = dataset[\"class\"].nunique()\n",
    "\n",
    "    results = []\n",
    "    for seed in range(repetitions):\n",
    "        initial_cost, final_cost, silhouette, n_iter, time = find_clustering(\n",
    "            data, n_clusters, initialisation, seed\n",
    "        )\n",
    "\n",
    "        record = Record(\n",
    "            n_clusters,\n",
    "            initialisation,\n",
    "            seed,\n",
    "            initial_cost,\n",
    "            final_cost,\n",
    "            silhouette,\n",
    "            n_iter,\n",
    "            time,\n",
    "        )\n",
    "        results.append(record)\n",
    "\n",
    "    return pd.DataFrame(results)\n",
    "\n",
    "\n",
    "def main(name, repetitions=50, root=\"../data/\", write=False):\n",
    "\n",
    "    data = pd.read_csv(f\"{root}{name}.csv\", na_values=[\"?\", \"dna\"])\n",
    "    dataset = data.dropna().drop_duplicates()\n",
    "\n",
    "    dfs = [\n",
    "        run_experiment(dataset, initialisation, repetitions)\n",
    "        for initialisation in (\"cao\", \"huang\", \"matching\")\n",
    "    ]\n",
    "\n",
    "    df = pd.concat(dfs, axis=0, ignore_index=True)\n",
    "    if write:\n",
    "        df.to_csv(root + f\"{name}_results.csv\", index=False)\n",
    "\n",
    "    return df"
   ]
  },
  {
   "cell_type": "code",
   "execution_count": null,
   "metadata": {},
   "outputs": [],
   "source": [
    "for name in (\"zoo\", \"breast_cancer\", \"soybean\", \"mushroom\"):\n",
    "    main(name, root=\"../data/\", write=True)"
   ]
  },
  {
   "cell_type": "markdown",
   "metadata": {},
   "source": [
    "# Plotting results"
   ]
  },
  {
   "cell_type": "code",
   "execution_count": null,
   "metadata": {},
   "outputs": [],
   "source": [
    "def violin_plots(name, column, root=\"../data/\", destination=None):\n",
    "\n",
    "    results = pd.read_csv(f\"../data/{name}_results.csv\")\n",
    "\n",
    "    fig, ax = plt.subplots(figsize=(10, 5), dpi=300)\n",
    "\n",
    "    for pos, (group, values) in enumerate(results.groupby(\"initialisation\")):\n",
    "        ax.violinplot(values[column], [pos], showmedians=True)\n",
    "\n",
    "    separated_column = ' '.join(column.split(\"_\"))\n",
    "    ax.set_xticks((0, 1, 2))\n",
    "    ax.set_xticklabels((\"Cao\", \"Huang\", \"Matching\"))\n",
    "    ax.set_xlabel(\"Initialisation method\")\n",
    "    ax.set_ylabel(separated_column.capitalize())\n",
    "    ax.set_title(\n",
    "        f\"{' '.join(name.split('_')).capitalize()} dataset {separated_column} by initialisation method\"\n",
    "    )\n",
    "\n",
    "    if destination is not None:\n",
    "        plt.savefig(destination + f\"{name}_{column}_violinplot.pdf\", transparent=True)"
   ]
  },
  {
   "cell_type": "code",
   "execution_count": null,
   "metadata": {
    "scrolled": true
   },
   "outputs": [],
   "source": [
    "# for name in (\"zoo\", \"breast_cancer\", \"soybean\", \"mushroom\"):\n",
    "#     for column in (\"initial_cost\", \"final_cost\", \"silhouette\", \"time\"):\n",
    "#         violin_plots(name, column, destination=\"../img/\")"
   ]
  },
  {
   "cell_type": "markdown",
   "metadata": {},
   "source": [
    "# Get result tables\n"
   ]
  },
  {
   "cell_type": "code",
   "execution_count": null,
   "metadata": {},
   "outputs": [],
   "source": [
    "def get_summary(name, root=None, destination=None):\n",
    "\n",
    "    results = pd.read_csv(f\"{root}{name}_results.csv\")\n",
    "\n",
    "    means = results.groupby(\"initialisation\")[\n",
    "        [\"initial_cost\", \"final_cost\", \"silhouette\", \"n_iterations\", \"time\"]\n",
    "    ].mean()\n",
    "\n",
    "    stds = results.groupby(\"initialisation\")[\n",
    "        [\"initial_cost\", \"final_cost\", \"silhouette\", \"n_iterations\", \"time\"]\n",
    "    ].std()\n",
    "\n",
    "    summary = pd.DataFrame(columns=means.columns, index=means.index)\n",
    "    for j, column in enumerate(means):\n",
    "        for i, _ in enumerate(means[column]):\n",
    "            summary.iloc[i, j] = (\n",
    "                f\"{means.iloc[i, j]:.2f} ({stds.iloc[i, j]:.3f})\"\n",
    "            )\n",
    "\n",
    "    summary.columns = [\"Initial cost\", \"Final cost\", \"Silhouette\", \"No. iterations\", \"Time\"]\n",
    "    summary.index = [\"Cao\", \"Huang\", \"Matching\"]\n",
    "\n",
    "    if destination is not None:\n",
    "        summary.to_latex(f\"{destination}{name}_summary.tex\")\n",
    "\n",
    "    return summary"
   ]
  },
  {
   "cell_type": "code",
   "execution_count": null,
   "metadata": {},
   "outputs": [],
   "source": [
    "for name in (\"zoo\", \"breast_cancer\", \"soybean\", \"mushroom\"):\n",
    "    get_summary(name, \"../data/\", \"../tex/\")"
   ]
  },
  {
   "cell_type": "code",
   "execution_count": null,
   "metadata": {},
   "outputs": [],
   "source": []
  }
 ],
 "metadata": {
  "kernelspec": {
   "display_name": "Python 3",
   "language": "python",
   "name": "python3"
  },
  "language_info": {
   "codemirror_mode": {
    "name": "ipython",
    "version": 3
   },
   "file_extension": ".py",
   "mimetype": "text/x-python",
   "name": "python",
   "nbconvert_exporter": "python",
   "pygments_lexer": "ipython3",
   "version": "3.7.3"
  }
 },
 "nbformat": 4,
 "nbformat_minor": 2
}
