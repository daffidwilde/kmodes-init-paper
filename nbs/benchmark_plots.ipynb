{
 "cells": [
  {
   "cell_type": "markdown",
   "metadata": {},
   "source": [
    "# Benchmark dataset plots\n",
    "\n",
    "This notebook contains the code used to produce the plots from Sections 3.1 & 3.2 of the paper\n",
    "\n",
    "**The assumption is that the `../data/<choice for k>/<dataset>_results.csv` files have been generated for both choices of $k$.**\n",
    "\n",
    "**This is done by running the following notebooks:**\n",
    "- **`summarise_datasets.ipynb` (if `../data/knee/<dataset>_costs.csv` do not exist)**\n",
    "- **`knee_data.ipynb` and `nclasses_data.ipynb`.**"
   ]
  },
  {
   "cell_type": "code",
   "execution_count": null,
   "metadata": {},
   "outputs": [],
   "source": [
    "import warnings\n",
    "\n",
    "import matplotlib.pyplot as plt\n",
    "import numpy as np\n",
    "import pandas as pd\n",
    "\n",
    "%matplotlib inline\n",
    "plt.style.use(\"seaborn-colorblind\")\n",
    "warnings.filterwarnings(\"ignore\")"
   ]
  },
  {
   "cell_type": "code",
   "execution_count": null,
   "metadata": {},
   "outputs": [],
   "source": [
    "method_colours = {\"cao\": \"tab:green\", \"huang\": \"tab:blue\", \"matching\": \"tab:orange\"}\n"
   ]
  },
  {
   "cell_type": "markdown",
   "metadata": {},
   "source": [
    "# Plotting results and results tables\n"
   ]
  },
  {
   "cell_type": "code",
   "execution_count": null,
   "metadata": {},
   "outputs": [],
   "source": [
    "def empirical_cdf_plots(name, root, column, filename, nseeds=None):\n",
    "\n",
    "    \"\"\" Plot the CDF of either the initial or final cost for an initialisation\n",
    "    method. This is controlled via the `column` argument. \"\"\"\n",
    "\n",
    "    results = pd.read_csv(f\"{root}{name}_results.csv\")\n",
    "    if nseeds:\n",
    "        results = results[results[\"seed\"] < nseeds]\n",
    "\n",
    "    xmin = results[[\"initial_cost\", \"final_cost\"]].min().min() * 0.99\n",
    "    xmax = results[[\"initial_cost\", \"final_cost\"]].max().max() * 1.01\n",
    "\n",
    "    fig, ax = plt.subplots(figsize=(5, 2.5), dpi=300)\n",
    "\n",
    "    for group, values in results.groupby(\"initialisation\"):\n",
    "        colour = method_colours[group]\n",
    "        if group == \"cao\":\n",
    "            ax.vlines(\n",
    "                x=values[column].median(),\n",
    "                ymin=0,\n",
    "                ymax=1.1,\n",
    "                color=colour,\n",
    "                label=group.capitalize(),\n",
    "            )\n",
    "        else:\n",
    "            histtype, alpha = \"bar\", 0.25\n",
    "            if group == \"huang\":\n",
    "                histtype, alpha = \"bar\", 0.25\n",
    "\n",
    "            ax.hist(\n",
    "                values[column],\n",
    "                cumulative=True,\n",
    "                bins=100,\n",
    "                density=True,\n",
    "                color=colour,\n",
    "                histtype=histtype,\n",
    "                alpha=alpha,\n",
    "                label=group.capitalize(),\n",
    "            )\n",
    "\n",
    "        separated_column = \" \".join(column.split(\"_\"))\n",
    "        ax.set_xlabel(separated_column.capitalize())\n",
    "        ax.set_ylabel(\"Likelihood of observation\")\n",
    "\n",
    "        ax.set_ylim(0, 1.05)\n",
    "        ax.set_xlim(xmin, xmax)\n",
    "\n",
    "        ax.legend()\n",
    "        plt.tight_layout()\n",
    "\n",
    "        if filename is not None:\n",
    "            plt.savefig(filename, transparent=True)\n"
   ]
  },
  {
   "cell_type": "code",
   "execution_count": null,
   "metadata": {},
   "outputs": [],
   "source": [
    "def scatter_plots(name, root, filename, nseeds=None):\n",
    "\n",
    "    \"\"\" Generate a scatter plot of initial cost vs. final cost. \"\"\"\n",
    "\n",
    "    results = pd.read_csv(f\"{root}{name}_results.csv\")\n",
    "    if nseeds:\n",
    "        results = results[results[\"seed\"] < nseeds]\n",
    "\n",
    "    fig, ax = plt.subplots(figsize=(5, 5), dpi=300)\n",
    "\n",
    "    for group, values in results.groupby(\"initialisation\"):\n",
    "        colour = method_colours[group]\n",
    "        alpha, zorder, marker, markersize, edgecolour = 0.75, 1, \".\", 100, \"None\"\n",
    "        if group == \"cao\":\n",
    "            alpha, zorder, marker = 1, 2, \"x\"\n",
    "        if group == \"huang\":\n",
    "            marker, markersize, colour = \"D\", 25, colour\n",
    "\n",
    "        ax.scatter(\n",
    "            values[\"initial_cost\"],\n",
    "            values[\"final_cost\"],\n",
    "            alpha=alpha,\n",
    "            zorder=zorder,\n",
    "            marker=marker,\n",
    "            s=markersize,\n",
    "            edgecolor=edgecolour,\n",
    "            facecolor=colour,\n",
    "            label=group.capitalize(),\n",
    "        )\n",
    "\n",
    "    ax.set_xlabel(\"Initial cost\")\n",
    "    ax.set_ylabel(\"Final cost\")\n",
    "\n",
    "    limits = [\n",
    "        np.min([ax.get_xlim(), ax.get_ylim()]),\n",
    "        np.max([ax.get_xlim(), ax.get_ylim()]),\n",
    "    ]\n",
    "\n",
    "    ax.plot(limits, limits, \"gray\", alpha=0.5, zorder=0)\n",
    "\n",
    "    ax.set_aspect(\"equal\")\n",
    "    ax.set_xlim(limits)\n",
    "    ax.set_ylim(limits)\n",
    "\n",
    "    ax.legend()\n",
    "    plt.tight_layout()\n",
    "\n",
    "    if filename is not None:\n",
    "        plt.savefig(filename, transparent=True)\n"
   ]
  },
  {
   "cell_type": "code",
   "execution_count": null,
   "metadata": {},
   "outputs": [],
   "source": [
    "def get_summary(name, root, filename, nseeds=None):\n",
    "\n",
    "    results = pd.read_csv(f\"{root}{name}_results.csv\")\n",
    "    if nseeds:\n",
    "        results = results[results[\"seed\"] < nseeds]\n",
    "\n",
    "    means = results.groupby(\"initialisation\")[\n",
    "        [\"initial_cost\", \"final_cost\", \"n_iterations\", \"time\"]\n",
    "    ].mean()\n",
    "\n",
    "    stds = results.groupby(\"initialisation\")[\n",
    "        [\"initial_cost\", \"final_cost\", \"n_iterations\", \"time\"]\n",
    "    ].std()\n",
    "\n",
    "    summary = pd.DataFrame(columns=means.columns, index=means.index)\n",
    "    for j, column in enumerate(means):\n",
    "        for i, _ in enumerate(means[column]):\n",
    "            summary.iloc[i, j] = f\"{means.iloc[i, j]:.2f} ({stds.iloc[i, j]:.3f})\"\n",
    "\n",
    "    summary.columns = [\"Initial cost\", \"Final cost\", \"No. iterations\", \"Time\"]\n",
    "    summary.index = [\"Cao\", \"Huang\", \"Matching\"]\n",
    "\n",
    "    if filename is not None:\n",
    "        summary.to_latex(filename)\n"
   ]
  },
  {
   "cell_type": "code",
   "execution_count": null,
   "metadata": {},
   "outputs": [],
   "source": [
    "def make_plots(root, tshift, fshift):\n",
    "\n",
    "    for i, name in enumerate((\"breast_cancer\", \"mushroom\", \"nursery\", \"soybean\")):\n",
    "        table_num, figure_num = i + tshift, i + fshift\n",
    "\n",
    "        get_summary(name, root, filename=f\"../tex/Tab{table_num}.tex\", nseeds=nseeds)\n",
    "        scatter_plots(name, root, filename=f\"../img/Fig{figure_num}a.pdf\", nseeds=nseeds)\n",
    "        empirical_cdf_plots(name, root, \"initial_cost\", filename=f\"../img/Fig{figure_num}b1.pdf\", nseeds=nseeds)\n",
    "        empirical_cdf_plots(name, root, \"final_cost\", filename=f\"../img/Fig{figure_num}b2.pdf\", nseeds=nseeds)"
   ]
  },
  {
   "cell_type": "code",
   "execution_count": null,
   "metadata": {
    "scrolled": true
   },
   "outputs": [],
   "source": [
    "nseeds = 250\n",
    "\n",
    "with open(\"../tex/repetitions.tex\", \"w\") as f:\n",
    "    f.write(str(nseeds))\n",
    "\n",
    "make_plots(\"../data/knee/\", 3, 1)\n",
    "make_plots(\"../data/nclasses/\", 7, 5)\n"
   ]
  },
  {
   "cell_type": "code",
   "execution_count": null,
   "metadata": {},
   "outputs": [],
   "source": []
  }
 ],
 "metadata": {
  "kernelspec": {
   "display_name": "Python 3",
   "language": "python",
   "name": "python3"
  },
  "language_info": {
   "codemirror_mode": {
    "name": "ipython",
    "version": 3
   },
   "file_extension": ".py",
   "mimetype": "text/x-python",
   "name": "python",
   "nbconvert_exporter": "python",
   "pygments_lexer": "ipython3",
   "version": "3.7.3"
  }
 },
 "nbformat": 4,
 "nbformat_minor": 2
}
