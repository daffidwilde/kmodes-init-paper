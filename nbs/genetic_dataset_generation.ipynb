{
 "cells": [
  {
   "cell_type": "markdown",
   "metadata": {},
   "source": [
    "# Generating a population of datasets using a genetic algorithm\n",
    "---\n",
    "\n",
    "## Motivation\n",
    "---\n",
    "Preliminary tests on relatively small datasets has shown that deliberately choosing a fairer starting point for the algorithm (i.e. by assigning potential centroids to points in the data by solving a matching game) does not necessarily improve the performance of the overall $k$-modes algorithm.\n",
    "\n",
    "The hope is to develop a set of datasets which are better clustered by our matching initialisation than by Cao's method (the leading competitor). We will develop this set as a population in a genetic algorithm.\n",
    "\n",
    "## Method\n",
    "---\n",
    "#### 1. Beginning with an initial set of randomly-generated categorical datasets\n",
    " - Defined by their number of **rows, columns, and clusters** we will cluster them each by our method and Cao's.\n",
    "\n",
    "#### 2. Select two parents that are well-performing\n",
    " - Performance is given by our **objective function**\n",
    " - We stipulate some level of **difference** between these parent datasets to **maintain** some population **diversity**. By doing this, we avoid falling into a local minimum too soon.\n",
    "\n",
    "#### 3. Create an offspring based on some crossover operation\n",
    " - This will likely be some mix of blending the columns of our parent datasets, and resizing it to be full.\n",
    "\n",
    "#### 4. Select some underperforming dataset and replace it with the offspring. Go to 2 until some stopping criterion is met\n",
    "\n",
    "\n",
    "At each generation, we 'roll a dice' and mutate a dataset at random according to some pre-defined mutation rate. By mutating a member of our population, we force some diversity even when we are converging to some 'stable' population of datasets. This mutation operation will be similar to the crossover operation."
   ]
  },
  {
   "cell_type": "code",
   "execution_count": 3,
   "metadata": {},
   "outputs": [],
   "source": [
    "from kmodes.kmodes import KModes\n",
    "from sklearn.datasets import make_blobs\n",
    "\n",
    "import operator\n",
    "\n",
    "import pandas as pd\n",
    "import numpy as np"
   ]
  },
  {
   "cell_type": "code",
   "execution_count": 4,
   "metadata": {},
   "outputs": [],
   "source": [
    "def pointwise_dissim(x, y):\n",
    "    return np.sum(x != y, axis=0)\n",
    "\n",
    "def dissim(Y, x):\n",
    "    return np.sum(Y != x, axis=1)"
   ]
  },
  {
   "cell_type": "code",
   "execution_count": 6,
   "metadata": {},
   "outputs": [],
   "source": [
    "class DataSet(object):\n",
    "    \"\"\" A dataset object, defined by its number of rows, columns and clusters, and a generator seed. \"\"\"\n",
    "\n",
    "    def __init__(self, n_rows, n_cols, n_clusters, seed):\n",
    "        self.n_rows = n_rows\n",
    "        self.n_cols = n_cols\n",
    "        self.n_clusters = n_clusters\n",
    "        self.seed = seed\n",
    "\n",
    "        np.random.seed(self.seed)\n",
    "        self.cluster_std = (0.5 - 0.01) * np.random.random() + 0.01\n",
    "\n",
    "    def get_dataframe(self):\n",
    "        \"\"\" Generate the dataset itself as a pandas.DataFrame object. \"\"\"\n",
    "\n",
    "        data, target = make_blobs(self.n_rows, self.n_cols,\n",
    "                                  self.n_clusters, self.cluster_std,\n",
    "                                  center_box=(0, 1), random_state=self.seed)\n",
    "\n",
    "        data = np.round(data, 0)\n",
    "        dataframe = pd.DataFrame({f'attr{col}': data[:, col] for col in range(data.shape[1])})\n",
    "\n",
    "        return dataframe\n",
    "\n",
    "    def get_clustering(self, init):\n",
    "        \"\"\" Cluster the dataset into `n_clusters` parts, initialised by method `init`. \"\"\"\n",
    "\n",
    "        km = KModes(n_clusters=self.n_clusters, init=init, n_init=10)\n",
    "        km.fit_predict(self.get_dataframe)\n",
    "\n",
    "        return km\n",
    "\n",
    "    def fitness(self):\n",
    "        \"\"\" Find the fitness of a dataset by clustering it by Cao's method, and our own;\n",
    "        return the difference between their costs. \"\"\"\n",
    "\n",
    "        cao = self.get_clustering('cao')\n",
    "        matching_best = self.get_clustering('matching_best')\n",
    "\n",
    "        return matching_best.cost_ - cao.cost_"
   ]
  },
  {
   "cell_type": "code",
   "execution_count": 23,
   "metadata": {},
   "outputs": [],
   "source": [
    "def generateFirstPopulation(population_size):\n",
    "\n",
    "    population = []\n",
    "    seed = 0\n",
    "\n",
    "    while seed < population_size:\n",
    "\n",
    "        np.random.seed(seed)\n",
    "        n_rows = np.random.randint(100, 10000)\n",
    "        n_cols = np.random.randint(4, 500)\n",
    "        n_clusters = np.random.randint(3, 20)\n",
    "\n",
    "        while n_clusters >= n_rows:\n",
    "            n_clusters = np.random.randint(min(n_rows, 3), 20)\n",
    "\n",
    "        dataset = DataSet(n_rows, n_cols, n_clusters, seed)\n",
    "        population.append(dataset)\n",
    "        seed += 1\n",
    "\n",
    "    return population"
   ]
  },
  {
   "cell_type": "code",
   "execution_count": 24,
   "metadata": {},
   "outputs": [],
   "source": [
    "def getOrderedPopulation(population):\n",
    "\n",
    "    ordered_population = {}\n",
    "    for individual in population:\n",
    "        ordered_population[individual] = individual.fitness()\n",
    "\n",
    "    return sorted(ordered_population.items(), key=operator.itemgetter(1), reverse=True)"
   ]
  },
  {
   "cell_type": "code",
   "execution_count": 25,
   "metadata": {},
   "outputs": [],
   "source": [
    "population = generateFirstPopulation(5)"
   ]
  },
  {
   "cell_type": "code",
   "execution_count": 30,
   "metadata": {},
   "outputs": [
    {
     "name": "stdout",
     "output_type": "stream",
     "text": [
      "3 (2832, 51)\n",
      "11 (335, 400)\n",
      "16 (7436, 19)\n",
      "6 (6094, 156)\n",
      "8 (1246, 178)\n"
     ]
    }
   ],
   "source": [
    "for ind in population:\n",
    "    print(ind.n_clusters, ind.get_dataset().shape)"
   ]
  },
  {
   "cell_type": "code",
   "execution_count": 26,
   "metadata": {},
   "outputs": [
    {
     "ename": "AssertionError",
     "evalue": "Cannot have more clusters (3) than data points (1).",
     "output_type": "error",
     "traceback": [
      "\u001b[0;31m---------------------------------------------------------------------------\u001b[0m",
      "\u001b[0;31mAssertionError\u001b[0m                            Traceback (most recent call last)",
      "\u001b[0;32m<ipython-input-26-e94eba9ce8f1>\u001b[0m in \u001b[0;36m<module>\u001b[0;34m()\u001b[0m\n\u001b[0;32m----> 1\u001b[0;31m \u001b[0mgetOrderedPopulation\u001b[0m\u001b[0;34m(\u001b[0m\u001b[0mpopulation\u001b[0m\u001b[0;34m)\u001b[0m\u001b[0;34m\u001b[0m\u001b[0m\n\u001b[0m",
      "\u001b[0;32m<ipython-input-24-86544962d911>\u001b[0m in \u001b[0;36mgetOrderedPopulation\u001b[0;34m(population)\u001b[0m\n\u001b[1;32m      3\u001b[0m     \u001b[0mordered_population\u001b[0m \u001b[0;34m=\u001b[0m \u001b[0;34m{\u001b[0m\u001b[0;34m}\u001b[0m\u001b[0;34m\u001b[0m\u001b[0m\n\u001b[1;32m      4\u001b[0m     \u001b[0;32mfor\u001b[0m \u001b[0mindividual\u001b[0m \u001b[0;32min\u001b[0m \u001b[0mpopulation\u001b[0m\u001b[0;34m:\u001b[0m\u001b[0;34m\u001b[0m\u001b[0m\n\u001b[0;32m----> 5\u001b[0;31m         \u001b[0mordered_population\u001b[0m\u001b[0;34m[\u001b[0m\u001b[0mindividual\u001b[0m\u001b[0;34m]\u001b[0m \u001b[0;34m=\u001b[0m \u001b[0mindividual\u001b[0m\u001b[0;34m.\u001b[0m\u001b[0mfitness\u001b[0m\u001b[0;34m(\u001b[0m\u001b[0;34m)\u001b[0m\u001b[0;34m\u001b[0m\u001b[0m\n\u001b[0m\u001b[1;32m      6\u001b[0m \u001b[0;34m\u001b[0m\u001b[0m\n\u001b[1;32m      7\u001b[0m     \u001b[0;32mreturn\u001b[0m \u001b[0msorted\u001b[0m\u001b[0;34m(\u001b[0m\u001b[0mordered_population\u001b[0m\u001b[0;34m.\u001b[0m\u001b[0mitems\u001b[0m\u001b[0;34m(\u001b[0m\u001b[0;34m)\u001b[0m\u001b[0;34m,\u001b[0m \u001b[0mkey\u001b[0m\u001b[0;34m=\u001b[0m\u001b[0moperator\u001b[0m\u001b[0;34m.\u001b[0m\u001b[0mitemgetter\u001b[0m\u001b[0;34m(\u001b[0m\u001b[0;36m1\u001b[0m\u001b[0;34m)\u001b[0m\u001b[0;34m,\u001b[0m \u001b[0mreverse\u001b[0m\u001b[0;34m=\u001b[0m\u001b[0;32mTrue\u001b[0m\u001b[0;34m)\u001b[0m\u001b[0;34m\u001b[0m\u001b[0m\n",
      "\u001b[0;32m<ipython-input-6-88f3d14a256c>\u001b[0m in \u001b[0;36mfitness\u001b[0;34m(self)\u001b[0m\n\u001b[1;32m     34\u001b[0m         return the difference between their costs. \"\"\"\n\u001b[1;32m     35\u001b[0m \u001b[0;34m\u001b[0m\u001b[0m\n\u001b[0;32m---> 36\u001b[0;31m         \u001b[0mcao\u001b[0m \u001b[0;34m=\u001b[0m \u001b[0mself\u001b[0m\u001b[0;34m.\u001b[0m\u001b[0mcluster\u001b[0m\u001b[0;34m(\u001b[0m\u001b[0;34m'cao'\u001b[0m\u001b[0;34m)\u001b[0m\u001b[0;34m\u001b[0m\u001b[0m\n\u001b[0m\u001b[1;32m     37\u001b[0m         \u001b[0mmatching_best\u001b[0m \u001b[0;34m=\u001b[0m \u001b[0mself\u001b[0m\u001b[0;34m.\u001b[0m\u001b[0mcluster\u001b[0m\u001b[0;34m(\u001b[0m\u001b[0;34m'matching_best'\u001b[0m\u001b[0;34m)\u001b[0m\u001b[0;34m\u001b[0m\u001b[0m\n\u001b[1;32m     38\u001b[0m         \u001b[0;32mreturn\u001b[0m \u001b[0mmatching_best\u001b[0m\u001b[0;34m.\u001b[0m\u001b[0mcost_\u001b[0m \u001b[0;34m-\u001b[0m \u001b[0mcao\u001b[0m\u001b[0;34m.\u001b[0m\u001b[0mcost_\u001b[0m\u001b[0;34m\u001b[0m\u001b[0m\n",
      "\u001b[0;32m<ipython-input-6-88f3d14a256c>\u001b[0m in \u001b[0;36mcluster\u001b[0;34m(self, init)\u001b[0m\n\u001b[1;32m     27\u001b[0m \u001b[0;34m\u001b[0m\u001b[0m\n\u001b[1;32m     28\u001b[0m         \u001b[0mkm\u001b[0m \u001b[0;34m=\u001b[0m \u001b[0mKModes\u001b[0m\u001b[0;34m(\u001b[0m\u001b[0mn_clusters\u001b[0m\u001b[0;34m=\u001b[0m\u001b[0mself\u001b[0m\u001b[0;34m.\u001b[0m\u001b[0mn_clusters\u001b[0m\u001b[0;34m,\u001b[0m \u001b[0minit\u001b[0m\u001b[0;34m=\u001b[0m\u001b[0minit\u001b[0m\u001b[0;34m,\u001b[0m \u001b[0mn_init\u001b[0m\u001b[0;34m=\u001b[0m\u001b[0;36m10\u001b[0m\u001b[0;34m)\u001b[0m\u001b[0;34m\u001b[0m\u001b[0m\n\u001b[0;32m---> 29\u001b[0;31m         \u001b[0mkm\u001b[0m\u001b[0;34m.\u001b[0m\u001b[0mfit_predict\u001b[0m\u001b[0;34m(\u001b[0m\u001b[0mself\u001b[0m\u001b[0;34m.\u001b[0m\u001b[0mget_dataset\u001b[0m\u001b[0;34m)\u001b[0m\u001b[0;34m\u001b[0m\u001b[0m\n\u001b[0m\u001b[1;32m     30\u001b[0m         \u001b[0;32mreturn\u001b[0m \u001b[0mkm\u001b[0m\u001b[0;34m\u001b[0m\u001b[0m\n\u001b[1;32m     31\u001b[0m \u001b[0;34m\u001b[0m\u001b[0m\n",
      "\u001b[0;32m~/src/kmodes/kmodes/kmodes.py\u001b[0m in \u001b[0;36mfit_predict\u001b[0;34m(self, X, y, **kwargs)\u001b[0m\n\u001b[1;32m    501\u001b[0m         \u001b[0mpredict\u001b[0m\u001b[0;34m(\u001b[0m\u001b[0mX\u001b[0m\u001b[0;34m)\u001b[0m\u001b[0;34m.\u001b[0m\u001b[0;34m\u001b[0m\u001b[0m\n\u001b[1;32m    502\u001b[0m         \"\"\"\n\u001b[0;32m--> 503\u001b[0;31m         \u001b[0;32mreturn\u001b[0m \u001b[0mself\u001b[0m\u001b[0;34m.\u001b[0m\u001b[0mfit\u001b[0m\u001b[0;34m(\u001b[0m\u001b[0mX\u001b[0m\u001b[0;34m,\u001b[0m \u001b[0;34m**\u001b[0m\u001b[0mkwargs\u001b[0m\u001b[0;34m)\u001b[0m\u001b[0;34m.\u001b[0m\u001b[0mpredict\u001b[0m\u001b[0;34m(\u001b[0m\u001b[0mX\u001b[0m\u001b[0;34m,\u001b[0m \u001b[0;34m**\u001b[0m\u001b[0mkwargs\u001b[0m\u001b[0;34m)\u001b[0m\u001b[0;34m\u001b[0m\u001b[0m\n\u001b[0m\u001b[1;32m    504\u001b[0m \u001b[0;34m\u001b[0m\u001b[0m\n\u001b[1;32m    505\u001b[0m     \u001b[0;32mdef\u001b[0m \u001b[0mpredict\u001b[0m\u001b[0;34m(\u001b[0m\u001b[0mself\u001b[0m\u001b[0;34m,\u001b[0m \u001b[0mX\u001b[0m\u001b[0;34m,\u001b[0m \u001b[0;34m**\u001b[0m\u001b[0mkwargs\u001b[0m\u001b[0;34m)\u001b[0m\u001b[0;34m:\u001b[0m\u001b[0;34m\u001b[0m\u001b[0m\n",
      "\u001b[0;32m~/src/kmodes/kmodes/kmodes.py\u001b[0m in \u001b[0;36mfit\u001b[0;34m(self, X, y, **kwargs)\u001b[0m\n\u001b[1;32m    492\u001b[0m                                                \u001b[0mself\u001b[0m\u001b[0;34m.\u001b[0m\u001b[0minit\u001b[0m\u001b[0;34m,\u001b[0m\u001b[0;34m\u001b[0m\u001b[0m\n\u001b[1;32m    493\u001b[0m                                                \u001b[0mself\u001b[0m\u001b[0;34m.\u001b[0m\u001b[0mn_init\u001b[0m\u001b[0;34m,\u001b[0m\u001b[0;34m\u001b[0m\u001b[0m\n\u001b[0;32m--> 494\u001b[0;31m                                                self.verbose)\n\u001b[0m\u001b[1;32m    495\u001b[0m         \u001b[0;32mreturn\u001b[0m \u001b[0mself\u001b[0m\u001b[0;34m\u001b[0m\u001b[0m\n\u001b[1;32m    496\u001b[0m \u001b[0;34m\u001b[0m\u001b[0m\n",
      "\u001b[0;32m~/src/kmodes/kmodes/kmodes.py\u001b[0m in \u001b[0;36mk_modes\u001b[0;34m(X, n_clusters, max_iter, dissim, init, n_init, verbose)\u001b[0m\n\u001b[1;32m    299\u001b[0m     \u001b[0mn_points\u001b[0m\u001b[0;34m,\u001b[0m \u001b[0mn_attrs\u001b[0m \u001b[0;34m=\u001b[0m \u001b[0mX\u001b[0m\u001b[0;34m.\u001b[0m\u001b[0mshape\u001b[0m\u001b[0;34m\u001b[0m\u001b[0m\n\u001b[1;32m    300\u001b[0m     \u001b[0;32massert\u001b[0m \u001b[0mn_clusters\u001b[0m \u001b[0;34m<=\u001b[0m \u001b[0mn_points\u001b[0m\u001b[0;34m,\u001b[0m \u001b[0;34m\"Cannot have more clusters ({}) \"\u001b[0m\u001b[0;31m \u001b[0m\u001b[0;31m\\\u001b[0m\u001b[0;34m\u001b[0m\u001b[0m\n\u001b[0;32m--> 301\u001b[0;31m                                    \u001b[0;34m\"than data points ({}).\"\u001b[0m\u001b[0;34m.\u001b[0m\u001b[0mformat\u001b[0m\u001b[0;34m(\u001b[0m\u001b[0mn_clusters\u001b[0m\u001b[0;34m,\u001b[0m \u001b[0mn_points\u001b[0m\u001b[0;34m)\u001b[0m\u001b[0;34m\u001b[0m\u001b[0m\n\u001b[0m\u001b[1;32m    302\u001b[0m \u001b[0;34m\u001b[0m\u001b[0m\n\u001b[1;32m    303\u001b[0m     \u001b[0;31m# Are there more n_clusters than unique rows? Then set the unique\u001b[0m\u001b[0;34m\u001b[0m\u001b[0;34m\u001b[0m\u001b[0m\n",
      "\u001b[0;31mAssertionError\u001b[0m: Cannot have more clusters (3) than data points (1)."
     ]
    }
   ],
   "source": [
    "getOrderedPopulation(population)"
   ]
  },
  {
   "cell_type": "code",
   "execution_count": null,
   "metadata": {},
   "outputs": [],
   "source": []
  }
 ],
 "metadata": {
  "kernelspec": {
   "display_name": "Python 3",
   "language": "python",
   "name": "python3"
  },
  "language_info": {
   "codemirror_mode": {
    "name": "ipython",
    "version": 3
   },
   "file_extension": ".py",
   "mimetype": "text/x-python",
   "name": "python",
   "nbconvert_exporter": "python",
   "pygments_lexer": "ipython3",
   "version": "3.6.4"
  }
 },
 "nbformat": 4,
 "nbformat_minor": 2
}
