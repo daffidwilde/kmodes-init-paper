{
 "cells": [
  {
   "cell_type": "markdown",
   "metadata": {},
   "source": [
    "# Example 1."
   ]
  },
  {
   "cell_type": "code",
   "execution_count": 1,
   "metadata": {},
   "outputs": [],
   "source": [
    "import pandas as pd\n",
    "\n",
    "vehicle = pd.read_csv('../data/vehicle.csv', dtype='object')\n",
    "\n",
    "vehicle.columns = [col.replace('_', '-').title() for col in vehicle.columns]\n",
    "cols = ['Price', 'Maintenance', 'Doors', 'Passengers', 'Wheels', 'Eco-Friendly']\n",
    "\n",
    "vehicle = vehicle[cols]"
   ]
  },
  {
   "cell_type": "markdown",
   "metadata": {},
   "source": [
    "---\n",
    "# Example 2."
   ]
  },
  {
   "cell_type": "code",
   "execution_count": 12,
   "metadata": {},
   "outputs": [],
   "source": [
    "import pandas as pd\n",
    "\n",
    "vehicle = pd.read_csv('../data/vehicle.csv', dtype='object')\n",
    "\n",
    "vehicle.columns = [col.replace('_', '-').title() for col in vehicle.columns]\n",
    "cols = ['Price', 'Maintenance', 'Doors', 'Passengers', 'Wheels', 'Eco-Friendly']\n",
    "\n",
    "vehicle = vehicle[cols]\n",
    "mode = vehicle.describe().loc['top'].values\n",
    "\n",
    "tex = '\\\\[ \\n\\t\\\\mu = \\\\left['\n",
    "for value in mode:\n",
    "    tex += f'{value}, \\ '\n",
    "tex = tex[:-4]\n",
    "tex += '\\\\right] \\n\\\\]'"
   ]
  },
  {
   "cell_type": "markdown",
   "metadata": {},
   "source": [
    "---\n",
    "# Example 3.\n",
    "\n",
    "### Relative frequency table"
   ]
  },
  {
   "cell_type": "code",
   "execution_count": 3,
   "metadata": {},
   "outputs": [],
   "source": [
    "import pandas as pd\n",
    "\n",
    "vehicle = pd.read_csv('../data/vehicle.csv', dtype='object')\n",
    "\n",
    "vehicle.columns = [col.replace('_', '-').title() for col in vehicle.columns]\n",
    "cols = ['Price', 'Maintenance', 'Doors', 'Passengers', 'Wheels', 'Eco-Friendly']\n",
    "\n",
    "vehicle = vehicle[cols]\n",
    "\n",
    "idxs = ['0', '1', '2', '3', '4', '5', '7', '8', 'L', 'M', 'H', 'V']\n",
    "\n",
    "relative_freq = pd.DataFrame({col: vehicle[col].value_counts(normalize=True) \\\n",
    "                              for col in vehicle.columns}).reindex(idxs).fillna(0)"
   ]
  },
  {
   "cell_type": "markdown",
   "metadata": {},
   "source": [
    "### Huang's virtual modes and dissimilarity table"
   ]
  },
  {
   "cell_type": "code",
   "execution_count": 4,
   "metadata": {},
   "outputs": [],
   "source": [
    "import pandas as pd\n",
    "import numpy as np\n",
    "\n",
    "from collections import defaultdict\n",
    "from copy import deepcopy\n",
    "\n",
    "def dissim(X, x):\n",
    "    \n",
    "    return np.sum(X != x, axis=1)\n",
    "\n",
    "vehicle = pd.read_csv('../data/vehicle.csv', dtype='object')\n",
    "\n",
    "vehicle.columns = [col.replace('_', '-').title() for col in vehicle.columns]\n",
    "cols = ['Price', 'Maintenance', 'Doors', 'Passengers', 'Wheels', 'Eco-Friendly']\n",
    "vehicle = vehicle[cols]"
   ]
  },
  {
   "cell_type": "code",
   "execution_count": 5,
   "metadata": {},
   "outputs": [],
   "source": [
    "data = vehicle.values\n",
    "n_attrs = data.shape[1]\n",
    "modes = np.empty((3, n_attrs), dtype='object')\n",
    "\n",
    "# Build frequency dictionary for attribute values\n",
    "for iattr in range(n_attrs):\n",
    "    freq = defaultdict(int)\n",
    "    for curattr in data[:, iattr]:\n",
    "        freq[curattr] += 1\n",
    "\n",
    "    choices = [chc for chc, wght in freq.items() for _ in range(wght)]\n",
    "\n",
    "    choices = sorted(choices)\n",
    "    modes[:, iattr] = np.random.choice(choices, 3)\n",
    "\n",
    "tex = '\\\\begin{equation} \\n \\\\begin{aligned} \\n \\t \\\\tilde{\\\\mu} = \\\\left\\{ '\n",
    "for mode in modes:\n",
    "    tex += '& \\\\left['\n",
    "    for val in mode:\n",
    "        tex += '\\\\text{' + f'{val}' + '}, \\ '\n",
    "    tex = tex[:-4]\n",
    "    tex += '\\\\right], \\\\\\\\ '\n",
    "tex = tex[:-5]\n",
    "tex += '\\\\right\\} \\\\\\\\ \\n \\\\end{aligned} \\n \\\\end{equation}'"
   ]
  },
  {
   "cell_type": "code",
   "execution_count": 6,
   "metadata": {},
   "outputs": [],
   "source": [
    "mode = modes[0, :]\n",
    "\n",
    "dissim_df = deepcopy(vehicle)\n",
    "\n",
    "dissim_df[r'Dissimilarity to $\\tilde{\\mu}_1$'] = dissim(data, mode)\n",
    "dissim_df.sort_values(r'Dissimilarity to $\\tilde{\\mu}_1$', ascending=True, inplace=True)"
   ]
  },
  {
   "cell_type": "markdown",
   "metadata": {},
   "source": [
    "### Huang's initial modes"
   ]
  },
  {
   "cell_type": "code",
   "execution_count": 7,
   "metadata": {},
   "outputs": [],
   "source": [
    "from kmodes.kmodes import init_huang\n",
    "\n",
    "import pandas as pd\n",
    "import numpy as np"
   ]
  },
  {
   "cell_type": "code",
   "execution_count": 8,
   "metadata": {},
   "outputs": [],
   "source": [
    "def dissim(X, x):\n",
    "    \n",
    "    return np.sum(X != x, axis=1)"
   ]
  },
  {
   "cell_type": "code",
   "execution_count": 9,
   "metadata": {},
   "outputs": [],
   "source": [
    "vehicle = pd.read_csv('../data/vehicle.csv', dtype='object')\n",
    "\n",
    "vehicle.columns = [col.replace('_', '-').title() for col in vehicle.columns]\n",
    "cols = ['Price', 'Maintenance', 'Doors', 'Passengers', 'Wheels', 'Eco-Friendly']\n",
    "\n",
    "vehicle = vehicle[cols]"
   ]
  },
  {
   "cell_type": "code",
   "execution_count": 10,
   "metadata": {},
   "outputs": [],
   "source": [
    "data = vehicle.values\n",
    "\n",
    "np.random.seed(0)\n",
    "modes = init_huang(data, 3, dissim)"
   ]
  },
  {
   "cell_type": "code",
   "execution_count": 11,
   "metadata": {},
   "outputs": [],
   "source": [
    "tex = '\\\\begin{equation} \\n \\\\begin{aligned} \\n \\t \\\\bar{\\\\mu} = \\\\left\\{ '\n",
    "for mode in modes:\n",
    "    tex += '& \\\\left['\n",
    "    for val in mode:\n",
    "        tex += '\\\\text{' + f'{val}' + '}, \\ '\n",
    "    tex = tex[:-4]\n",
    "    tex += '\\\\right], \\\\\\\\ '\n",
    "tex = tex[:-5]\n",
    "tex += '\\\\right\\} \\\\\\\\ \\n \\\\end{aligned} \\n \\\\end{equation}'"
   ]
  }
 ],
 "metadata": {
  "kernelspec": {
   "display_name": "Python 3",
   "language": "python",
   "name": "python3"
  },
  "language_info": {
   "codemirror_mode": {
    "name": "ipython",
    "version": 3
   },
   "file_extension": ".py",
   "mimetype": "text/x-python",
   "name": "python",
   "nbconvert_exporter": "python",
   "pygments_lexer": "ipython3",
   "version": "3.6.4"
  }
 },
 "nbformat": 4,
 "nbformat_minor": 2
}
