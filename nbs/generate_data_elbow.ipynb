{
 "cells": [
  {
   "cell_type": "code",
   "execution_count": 1,
   "metadata": {},
   "outputs": [],
   "source": [
    "from collections import namedtuple\n",
    "import time\n",
    "import warnings\n",
    "\n",
    "from kmodes.kmodes import KModes\n",
    "from kmodes.util import dissim\n",
    "from yellowbrick.utils import KneeLocator\n",
    "\n",
    "import matplotlib.pyplot as plt\n",
    "import numpy as np\n",
    "import pandas as pd\n",
    "import tqdm\n"
   ]
  },
  {
   "cell_type": "code",
   "execution_count": 2,
   "metadata": {},
   "outputs": [],
   "source": [
    "Record = namedtuple(\n",
    "    \"Record\",\n",
    "    [\n",
    "        \"n_clusters\",\n",
    "        \"initialisation\",\n",
    "        \"seed\",\n",
    "        \"initial_cost\",\n",
    "        \"final_cost\",\n",
    "        \"n_iterations\",\n",
    "        \"time\",\n",
    "    ],\n",
    ")\n",
    "\n",
    "\n",
    "def find_clustering(data, n_clusters, initialisation, seed):\n",
    "\n",
    "    start = time.perf_counter()\n",
    "    km = KModes(n_clusters, init=initialisation, n_init=1, random_state=seed)\n",
    "    km.fit(data)\n",
    "    end = time.perf_counter()\n",
    "\n",
    "    return km.epoch_costs_[0], km.cost_, km.n_iter_, end - start\n",
    "\n",
    "\n",
    "def run_experiment(dataset, initialisation, repetitions, n_clusters=None):\n",
    "\n",
    "    data = dataset.drop(\"class\", axis=1)\n",
    "    n_clusters = dataset[\"class\"].nunique() if n_clusters is None else n_clusters\n",
    "\n",
    "    results = []\n",
    "    for seed in tqdm.tqdm(range(repetitions)):\n",
    "        initial_cost, final_cost, n_iter, time = find_clustering(\n",
    "            data, n_clusters, initialisation, seed\n",
    "        )\n",
    "\n",
    "        record = Record(\n",
    "            n_clusters, initialisation, seed, initial_cost, final_cost, n_iter, time\n",
    "        )\n",
    "        results.append(record)\n",
    "\n",
    "    return pd.DataFrame(results)\n",
    "\n",
    "\n",
    "def main(name, repetitions=250, root=\"../data/\", destination=None, n_clusters=None):\n",
    "\n",
    "    data = pd.read_csv(f\"{root}{name}.csv\", na_values=[\"?\", \"dna\"])\n",
    "    dataset = data.dropna()\n",
    "\n",
    "    dfs = [\n",
    "        run_experiment(dataset, initialisation, repetitions, n_clusters)\n",
    "        for initialisation in (\"cao\", \"huang\", \"matching\")\n",
    "    ]\n",
    "\n",
    "    df = pd.concat(dfs, axis=0, ignore_index=True)\n",
    "    if destination is not None:\n",
    "        df.to_csv(destination + f\"{name}_results.csv\", index=False)\n",
    "\n",
    "    return df\n"
   ]
  },
  {
   "cell_type": "code",
   "execution_count": 3,
   "metadata": {},
   "outputs": [],
   "source": [
    "# for name in (\"breast_cancer\", \"mushroom\", \"nursery\", \"soybean\"):\n",
    "\n",
    "#     cost_df = pd.read_csv(f\"../data/elbow/{name}_costs.csv\")\n",
    "\n",
    "#     kl = KneeLocator(\n",
    "#         cost_df.index.values + 2, cost_df[\"cost\"].values, curve_nature=\"convex\", curve_direction=\"decreasing\"\n",
    "#     )\n",
    "\n",
    "#     n_clusters = kl.knee\n",
    "#     main(name, root=\"../data/\", destination=\"../data/elbow/\", n_clusters=n_clusters)\n"
   ]
  },
  {
   "cell_type": "code",
   "execution_count": null,
   "metadata": {},
   "outputs": [],
   "source": []
  }
 ],
 "metadata": {
  "kernelspec": {
   "display_name": "Python 3",
   "language": "python",
   "name": "python3"
  },
  "language_info": {
   "codemirror_mode": {
    "name": "ipython",
    "version": 3
   },
   "file_extension": ".py",
   "mimetype": "text/x-python",
   "name": "python",
   "nbconvert_exporter": "python",
   "pygments_lexer": "ipython3",
   "version": "3.7.3"
  }
 },
 "nbformat": 4,
 "nbformat_minor": 2
}
