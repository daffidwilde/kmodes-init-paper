{
 "cells": [
  {
   "cell_type": "markdown",
   "metadata": {},
   "source": [
    "# Artificial dataset plots\n",
    "\n",
    "This notebook contains the code used to generate the plots in Section 3.3 (Artificial datasets).\n",
    "\n",
    "**The assumption is that all three of the trials for each experiment have completed.**\n",
    "\n",
    "**If you are only trying to reproduce the plots, run the cell below and skip [here](#Fitness-distributions).**"
   ]
  },
  {
   "cell_type": "code",
   "execution_count": null,
   "metadata": {},
   "outputs": [],
   "source": [
    "from pathlib import Path\n",
    "import itertools as it\n",
    "\n",
    "from scipy import stats\n",
    "from sklearn.decomposition import PCA\n",
    "import matplotlib.pyplot as plt\n",
    "import numpy as np\n",
    "import pandas as pd\n",
    "\n",
    "%matplotlib inline\n",
    "plt.style.use(\"seaborn-colorblind\")\n",
    "\n",
    "com_dir = Path(\"../data/artificial/cao_over_matching_final_cost\")\n",
    "moc_dir = Path(\"../data/artificial/matching_over_cao_final_cost\")\n",
    "method_colours = {\"com\": \"tab:green\", \"moc\": \"tab:orange\"}\n",
    "nseeds = 3\n"
   ]
  },
  {
   "cell_type": "markdown",
   "metadata": {},
   "source": [
    "# Top percentile across all generations\n"
   ]
  },
  {
   "cell_type": "code",
   "execution_count": null,
   "metadata": {},
   "outputs": [],
   "source": [
    "def get_summary(directory, max_seed):\n",
    "\n",
    "    dfs = []\n",
    "    for seed in range(max_seed):\n",
    "        try:\n",
    "            df = pd.read_csv(f\"{directory}/{seed}/summary/main.csv\")\n",
    "            df[\"seed\"] = seed\n",
    "            dfs.append(df)\n",
    "        except FileNotFoundError as err:\n",
    "            print(err)\n",
    "\n",
    "    main = pd.concat(dfs, axis=0, ignore_index=True)\n",
    "    main = main.drop_duplicates(\n",
    "        subset=[\"nrows\", \"ncols\", \"memory\", \"fitness\", \"seed\"], keep=\"last\"\n",
    "    )\n",
    "\n",
    "    return main\n"
   ]
  },
  {
   "cell_type": "code",
   "execution_count": null,
   "metadata": {},
   "outputs": [],
   "source": [
    "com = get_summary(com_dir, nseeds)\n",
    "com.shape\n"
   ]
  },
  {
   "cell_type": "code",
   "execution_count": null,
   "metadata": {},
   "outputs": [],
   "source": [
    "moc = get_summary(moc_dir, nseeds)\n",
    "moc.shape\n"
   ]
  },
  {
   "cell_type": "code",
   "execution_count": null,
   "metadata": {},
   "outputs": [],
   "source": [
    "def get_best_percentiles(data, percentile):\n",
    "\n",
    "    threshold = np.percentile(data[\"fitness\"], percentile)\n",
    "    return data[data[\"fitness\"] < threshold]\n"
   ]
  },
  {
   "cell_type": "code",
   "execution_count": null,
   "metadata": {},
   "outputs": [],
   "source": [
    "com_percentile = get_best_percentiles(com, 1)\n",
    "moc_percentile = get_best_percentiles(moc, 1)\n",
    "\n",
    "com_percentile.shape, moc_percentile.shape\n"
   ]
  },
  {
   "cell_type": "code",
   "execution_count": null,
   "metadata": {},
   "outputs": [],
   "source": [
    "for data, experiment in zip((com_percentile, moc_percentile), (com_dir, moc_dir)):\n",
    "    for _, row in data.astype(int).iterrows():\n",
    "\n",
    "        seed = row[\"seed\"]\n",
    "        gen = row[\"generation\"]\n",
    "        ind = row[\"individual\"]\n",
    "\n",
    "        df = pd.read_csv(experiment / f\"{seed}/data/{gen}/{ind}/main.csv\", dtype=object)\n",
    "\n",
    "        top_percentile_dir = experiment / \"top\"\n",
    "        top_percentile_dir.mkdir(exist_ok=True)\n",
    "\n",
    "        df.to_csv(top_percentile_dir / f\"{gen}/{ind}/main.csv\", index=False)\n"
   ]
  },
  {
   "cell_type": "code",
   "execution_count": null,
   "metadata": {},
   "outputs": [],
   "source": [
    "com_percentile.to_csv(com_dir / \"top/main.csv\", index=False)\n",
    "moc_percentile.to_csv(moc_dir / \"top/main.csv\", index=False)"
   ]
  },
  {
   "cell_type": "markdown",
   "metadata": {},
   "source": [
    "# Fitness distributions"
   ]
  },
  {
   "cell_type": "code",
   "execution_count": null,
   "metadata": {},
   "outputs": [],
   "source": [
    "com_percentile = pd.read_csv(com_dir / \"top/main.csv\")\n",
    "moc_percentile = pd.read_csv(moc_dir / \"top/main.csv\")"
   ]
  },
  {
   "cell_type": "code",
   "execution_count": null,
   "metadata": {},
   "outputs": [],
   "source": [
    "fig, ax = plt.subplots(figsize=(6, 3), dpi=300)\n",
    "\n",
    "ax.hist(\n",
    "    com_percentile[\"fitness\"],\n",
    "    color=method_colours[\"com\"],\n",
    "    alpha=0.5,\n",
    "    label=\"$C_{\\mathrm{cao}} - C_{\\mathrm{match}}$\",\n",
    ")\n",
    "ax.hist(\n",
    "    moc_percentile[\"fitness\"],\n",
    "    color=method_colours[\"moc\"],\n",
    "    alpha=0.5,\n",
    "    label=\"$C_{\\mathrm{match}} - C_{\\mathrm{cao}}$\",\n",
    ")\n",
    "\n",
    "ax.set_xlabel(\"Fitness\")\n",
    "ax.set_ylabel(\"Frequency\")\n",
    "\n",
    "ax.legend()\n",
    "\n",
    "plt.tight_layout()\n",
    "plt.savefig(\"../img/Fig9.pdf\", transparent=True)\n"
   ]
  },
  {
   "cell_type": "markdown",
   "metadata": {},
   "source": [
    "# Univariate statistic distribution plots\n",
    "\n",
    "Each dataset in the top percentile of each experiment is transformed via centred PCA to a single component. Univariate statistics are taken and stored to be distributed."
   ]
  },
  {
   "cell_type": "code",
   "execution_count": null,
   "metadata": {},
   "outputs": [],
   "source": [
    "def get_stats(experiment):\n",
    "\n",
    "    dfs = []\n",
    "    top = pd.read_csv(experiment / \"top/main.csv\")\n",
    "    for _, row in top.astype(int).iterrows():\n",
    "\n",
    "        seed = row[\"seed\"]\n",
    "        gen = row[\"generation\"]\n",
    "        ind = row[\"individual\"]\n",
    "\n",
    "        df = pd.read_csv(\n",
    "            experiment / f\"top/{seed}/{gen}/{ind}/main.csv\", dtype=object\n",
    "        )\n",
    "\n",
    "        pca = PCA(n_components=1)\n",
    "        data = pca.fit_transform(df)\n",
    "        dfs.append(pd.DataFrame(data))\n",
    "\n",
    "    variances, skews, kurtoses = [], [], []\n",
    "    lower_deciles, upper_deciles, iqrs = [], [], []\n",
    "    for df in dfs:\n",
    "        variances += df.var().tolist()\n",
    "        skews += stats.skew(df).tolist()\n",
    "        kurtoses += stats.kurtosis(df).tolist()\n",
    "\n",
    "        lower_deciles.append(np.percentile(df, 10))\n",
    "        upper_deciles.append(np.percentile(df, 90))\n",
    "        iqrs.append(stats.iqr(df))\n",
    "\n",
    "    return {\n",
    "        \"variance\": variances,\n",
    "        \"skewness\": skews,\n",
    "        \"kurtosis\": kurtoses,\n",
    "        \"lower decile\": lower_deciles,\n",
    "        \"upper decile\": upper_deciles,\n",
    "        \"interquartile range\": iqrs,\n",
    "    }\n"
   ]
  },
  {
   "cell_type": "code",
   "execution_count": null,
   "metadata": {
    "scrolled": true
   },
   "outputs": [],
   "source": [
    "com_stats = get_stats(com_dir)\n",
    "moc_stats = get_stats(moc_dir)\n"
   ]
  },
  {
   "cell_type": "code",
   "execution_count": null,
   "metadata": {},
   "outputs": [],
   "source": [
    "def hist_with_dist_plot(statistic, bins=10, steps=100, filename=None):\n",
    "\n",
    "    fig, ax = plt.subplots(figsize=(7, 3), dpi=300)\n",
    "\n",
    "    for values, colour, label in zip(\n",
    "        [com_stats[statistic], moc_stats[statistic]],\n",
    "        list(method_colours.values()),\n",
    "        [r\"$C_{\\mathrm{cao}} - C_{\\mathrm{match}}$\", \"$C_{\\mathrm{match}} - C_{\\mathrm{cao}}$\"],\n",
    "    ):\n",
    "        xs = np.linspace(min(values), max(values), steps)\n",
    "        kernel = stats.gaussian_kde(values)\n",
    "\n",
    "        ax.hist(values, bins, color=colour, alpha=0.5, label=label, density=True)\n",
    "        ax.plot(xs, kernel(xs), color=colour)\n",
    "\n",
    "    ax.set_xlabel(statistic.capitalize())\n",
    "    ax.set_ylabel(\"Density\")\n",
    "\n",
    "    ax.legend()\n",
    "    plt.tight_layout()\n",
    "\n",
    "    if filename is not None:\n",
    "        plt.savefig(filename, transparent=True)\n"
   ]
  },
  {
   "cell_type": "code",
   "execution_count": null,
   "metadata": {
    "scrolled": false
   },
   "outputs": [],
   "source": [
    "bins = 25\n",
    "steps = 200\n",
    "\n",
    "for stat, filename in zip(\n",
    "    (\n",
    "        \"variance\",\n",
    "        \"skewness\",\n",
    "        \"kurtosis\",\n",
    "        \"interquartile range\",\n",
    "        \"lower decile\",\n",
    "        \"upper decile\",\n",
    "    ),\n",
    "    (\"Fig10a\", \"Fig10b\", \"Fig10c\", \"Fig11a\", \"Fig11b\", \"Fig11c\"),\n",
    "):\n",
    "    hist_with_dist_plot(stat, bins, steps, f\"../img/{filename}.pdf\")\n"
   ]
  },
  {
   "cell_type": "code",
   "execution_count": null,
   "metadata": {},
   "outputs": [],
   "source": []
  }
 ],
 "metadata": {
  "kernelspec": {
   "display_name": "Python 3",
   "language": "python",
   "name": "python3"
  },
  "language_info": {
   "codemirror_mode": {
    "name": "ipython",
    "version": 3
   },
   "file_extension": ".py",
   "mimetype": "text/x-python",
   "name": "python",
   "nbconvert_exporter": "python",
   "pygments_lexer": "ipython3",
   "version": "3.7.3"
  }
 },
 "nbformat": 4,
 "nbformat_minor": 2
}
