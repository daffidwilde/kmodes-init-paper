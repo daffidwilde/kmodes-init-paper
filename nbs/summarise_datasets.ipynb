{
 "cells": [
  {
   "cell_type": "code",
   "execution_count": 10,
   "metadata": {},
   "outputs": [],
   "source": [
    "import pprint\n",
    "from collections import namedtuple\n",
    "\n",
    "import matplotlib.pyplot as plt\n",
    "import numpy as np\n",
    "import pandas as pd\n",
    "import tqdm\n",
    "from kmodes.kmodes import KModes\n",
    "from yellowbrick.utils import KneeLocator\n",
    "\n",
    "%matplotlib inline"
   ]
  },
  {
   "cell_type": "code",
   "execution_count": 2,
   "metadata": {
    "scrolled": false
   },
   "outputs": [],
   "source": [
    "Summary = namedtuple(\n",
    "    \"Summary\",\n",
    "    [\n",
    "        \"name\",\n",
    "        \"num_rows\",\n",
    "        \"num_cols\",\n",
    "        \"num_classes\",\n",
    "        \"missing_values\",\n",
    "        \"adjusted_num_rows\",\n",
    "        \"adjusted_num_classes\",\n",
    "    ],\n",
    ")\n",
    "\n",
    "summaries = []\n",
    "for dataset_name in (\"breast_cancer\", \"mushroom\", \"soybean\", \"nursery\"):\n",
    "\n",
    "    df = pd.read_csv(f\"../data/{dataset_name}.csv\", na_values=[\"?\", \"dna\"])\n",
    "\n",
    "    classes = df[\"class\"]\n",
    "    df = df.drop(\"class\", axis=1)\n",
    "\n",
    "    dropped_df = df.dropna()\n",
    "    missing_values = len(dropped_df) != len(df)\n",
    "\n",
    "    nrows, ncols = df.shape\n",
    "    nclasses = classes.nunique()\n",
    "    adjusted_nrows = len(dropped_df)\n",
    "    adjusted_nclasses = classes.iloc[dropped_df.index].nunique()\n",
    "\n",
    "    summaries.append(\n",
    "        Summary(\n",
    "            dataset_name,\n",
    "            nrows,\n",
    "            ncols,\n",
    "            nclasses,\n",
    "            missing_values,\n",
    "            adjusted_nrows,\n",
    "            adjusted_nclasses,\n",
    "        )\n",
    "    )\n"
   ]
  },
  {
   "cell_type": "code",
   "execution_count": 3,
   "metadata": {},
   "outputs": [
    {
     "data": {
      "text/html": [
       "<div>\n",
       "<style scoped>\n",
       "    .dataframe tbody tr th:only-of-type {\n",
       "        vertical-align: middle;\n",
       "    }\n",
       "\n",
       "    .dataframe tbody tr th {\n",
       "        vertical-align: top;\n",
       "    }\n",
       "\n",
       "    .dataframe thead th {\n",
       "        text-align: right;\n",
       "    }\n",
       "</style>\n",
       "<table border=\"1\" class=\"dataframe\">\n",
       "  <thead>\n",
       "    <tr style=\"text-align: right;\">\n",
       "      <th></th>\n",
       "      <th>No. rows</th>\n",
       "      <th>No. cols</th>\n",
       "      <th>No. classes</th>\n",
       "      <th>Missing values</th>\n",
       "      <th>Adjusted no. rows</th>\n",
       "      <th>Adjusted no. classes</th>\n",
       "    </tr>\n",
       "  </thead>\n",
       "  <tbody>\n",
       "    <tr>\n",
       "      <th>Breast cancer</th>\n",
       "      <td>699</td>\n",
       "      <td>10</td>\n",
       "      <td>2</td>\n",
       "      <td>True</td>\n",
       "      <td>683</td>\n",
       "      <td>2</td>\n",
       "    </tr>\n",
       "    <tr>\n",
       "      <th>Mushroom</th>\n",
       "      <td>8124</td>\n",
       "      <td>22</td>\n",
       "      <td>2</td>\n",
       "      <td>True</td>\n",
       "      <td>5644</td>\n",
       "      <td>2</td>\n",
       "    </tr>\n",
       "    <tr>\n",
       "      <th>Soybean</th>\n",
       "      <td>307</td>\n",
       "      <td>35</td>\n",
       "      <td>19</td>\n",
       "      <td>True</td>\n",
       "      <td>266</td>\n",
       "      <td>15</td>\n",
       "    </tr>\n",
       "    <tr>\n",
       "      <th>Nursery</th>\n",
       "      <td>12960</td>\n",
       "      <td>8</td>\n",
       "      <td>5</td>\n",
       "      <td>False</td>\n",
       "      <td>12960</td>\n",
       "      <td>5</td>\n",
       "    </tr>\n",
       "  </tbody>\n",
       "</table>\n",
       "</div>"
      ],
      "text/plain": [
       "               No. rows  No. cols  No. classes  Missing values  \\\n",
       "Breast cancer       699        10            2            True   \n",
       "Mushroom           8124        22            2            True   \n",
       "Soybean             307        35           19            True   \n",
       "Nursery           12960         8            5           False   \n",
       "\n",
       "               Adjusted no. rows  Adjusted no. classes  \n",
       "Breast cancer                683                     2  \n",
       "Mushroom                    5644                     2  \n",
       "Soybean                      266                    15  \n",
       "Nursery                    12960                     5  "
      ]
     },
     "execution_count": 3,
     "metadata": {},
     "output_type": "execute_result"
    }
   ],
   "source": [
    "summary_df = pd.DataFrame(summaries).set_index(\"name\")\n",
    "summary_df.index = [\" \".join(name.split(\"_\")).capitalize() for name in summary_df.index]\n",
    "summary_df.columns = [\n",
    "    \" \".join(col.replace(\"num\", \"no.\").split(\"_\")).capitalize()\n",
    "    for col in summary_df.columns\n",
    "]\n",
    "\n",
    "summary_df.to_latex(\"../tex/dataset_summary.tex\")\n",
    "summary_df\n"
   ]
  },
  {
   "cell_type": "code",
   "execution_count": 7,
   "metadata": {
    "scrolled": true
   },
   "outputs": [
    {
     "name": "stderr",
     "output_type": "stream",
     "text": [
      "100%|██████████| 25/25 [00:10<00:00,  2.40it/s]\n",
      "100%|██████████| 74/74 [14:41<00:00, 11.91s/it]\n",
      "100%|██████████| 15/15 [00:04<00:00,  3.68it/s]\n",
      "100%|██████████| 112/112 [35:54<00:00, 19.24s/it]\n"
     ]
    }
   ],
   "source": [
    "# dataset_costs = {}\n",
    "# for dataset_name in (\"breast_cancer\", \"mushroom\", \"soybean\", \"nursery\"):\n",
    "\n",
    "#     df = pd.read_csv(f\"../data/{dataset_name}.csv\", na_values=[\"?\", \"dna\"])\n",
    "#     df = df.drop(\"class\", axis=1).dropna()\n",
    "\n",
    "#     costs = []\n",
    "#     cluster_range = range(2, int(np.sqrt(len(df))) + 1)\n",
    "#     for k in tqdm.tqdm(cluster_range):\n",
    "#         km = KModes(n_clusters=k, init=\"cao\", random_state=0).fit(df)\n",
    "#         costs.append(km.cost_)\n",
    "\n",
    "#     dataset_costs[dataset_name] = costs\n",
    "    \n",
    "#     cost_df = pd.DataFrame(\n",
    "#         {\"cost\": costs, \"min_nclusters\": min(cluster_range), \"max_nclusters\": max(cluster_range)}\n",
    "#     )\n",
    "#     cost_df.to_csv(f\"../data/elbow/{dataset_name}_costs.csv\", index=False)"
   ]
  },
  {
   "cell_type": "code",
   "execution_count": 24,
   "metadata": {},
   "outputs": [],
   "source": [
    "for name, costs in dataset_costs.items():\n",
    "    cost_df = pd.DataFrame({\"cost\": costs})\n",
    "    cost_df.to_csv(f\"../data/elbow/{name}_costs.csv\", index=False)"
   ]
  },
  {
   "cell_type": "code",
   "execution_count": null,
   "metadata": {},
   "outputs": [],
   "source": []
  }
 ],
 "metadata": {
  "kernelspec": {
   "display_name": "Python 3",
   "language": "python",
   "name": "python3"
  },
  "language_info": {
   "codemirror_mode": {
    "name": "ipython",
    "version": 3
   },
   "file_extension": ".py",
   "mimetype": "text/x-python",
   "name": "python",
   "nbconvert_exporter": "python",
   "pygments_lexer": "ipython3",
   "version": "3.7.3"
  }
 },
 "nbformat": 4,
 "nbformat_minor": 2
}
