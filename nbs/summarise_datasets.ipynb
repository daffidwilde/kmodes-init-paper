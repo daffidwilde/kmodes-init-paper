{
 "cells": [
  {
   "cell_type": "code",
   "execution_count": null,
   "metadata": {},
   "outputs": [],
   "source": [
    "import pprint\n",
    "from collections import namedtuple\n",
    "\n",
    "import matplotlib.pyplot as plt\n",
    "import numpy as np\n",
    "import pandas as pd\n",
    "import tqdm\n",
    "from kmodes.kmodes import KModes\n",
    "from yellowbrick.utils import KneeLocator\n",
    "\n",
    "%matplotlib inline\n",
    "plt.rcParams.update(plt.rcParamsDefault)\n",
    "plt.style.use(\"seaborn-colorblind\")"
   ]
  },
  {
   "cell_type": "code",
   "execution_count": null,
   "metadata": {},
   "outputs": [],
   "source": [
    "def main():\n",
    "    dataset_costs = {}\n",
    "    for dataset_name in (\"breast_cancer\", \"mushroom\", \"soybean\", \"nursery\"):\n",
    "\n",
    "        df = pd.read_csv(f\"../data/{dataset_name}.csv\", na_values=[\"?\", \"dna\"])\n",
    "        df = df.drop(\"class\", axis=1).dropna()\n",
    "\n",
    "        costs = []\n",
    "        cluster_range = range(2, int(np.sqrt(len(df))) + 1)\n",
    "        for k in tqdm.tqdm(cluster_range):\n",
    "            km = KModes(n_clusters=k, init=\"cao\", random_state=0).fit(df)\n",
    "            costs.append(km.cost_)\n",
    "\n",
    "        dataset_costs[dataset_name] = costs\n",
    "\n",
    "        cost_df = pd.DataFrame(\n",
    "            {\n",
    "                \"cost\": costs,\n",
    "                \"min_nclusters\": min(cluster_range),\n",
    "                \"max_nclusters\": max(cluster_range),\n",
    "            }\n",
    "        )\n",
    "        cost_df.to_csv(f\"../data/elbow/{dataset_name}_costs.csv\", index=False)\n",
    "\n",
    "    return dataset_costs\n"
   ]
  },
  {
   "cell_type": "code",
   "execution_count": null,
   "metadata": {
    "scrolled": true
   },
   "outputs": [],
   "source": [
    "dataset_costs = main()\n"
   ]
  },
  {
   "cell_type": "code",
   "execution_count": null,
   "metadata": {
    "scrolled": true
   },
   "outputs": [],
   "source": [
    "Summary = namedtuple(\n",
    "    \"Summary\",\n",
    "    [\n",
    "        \"Name\",\n",
    "        \"N\",\n",
    "        \"m\",\n",
    "        \"No_classes\",\n",
    "        \"Missing_values\",\n",
    "        \"Adjusted_N\",\n",
    "        \"Adjusted_no_classes\",\n",
    "        \"No_clusters_found\",\n",
    "    ],\n",
    ")\n",
    "\n",
    "summaries = []\n",
    "for name in (\"breast_cancer\", \"mushroom\", \"nursery\", \"soybean\"):\n",
    "\n",
    "    costs = pd.read_csv(f\"../data/knee/{name}_costs.csv\")\n",
    "    df = pd.read_csv(f\"../data/{name}.csv\", na_values=[\"?\", \"dna\"])\n",
    "\n",
    "    kl = KneeLocator(\n",
    "        costs.index.values + 2,\n",
    "        costs[\"cost\"].values,\n",
    "        curve_nature=\"convex\",\n",
    "        curve_direction=\"decreasing\",\n",
    "    )\n",
    "\n",
    "    classes = df[\"class\"]\n",
    "    df = df.drop(\"class\", axis=1)\n",
    "\n",
    "    dropped_df = df.dropna()\n",
    "    missing_values = len(dropped_df) != len(df)\n",
    "\n",
    "    nrows, ncols = df.shape\n",
    "    nclasses = classes.nunique()\n",
    "    adjusted_nrows = len(dropped_df)\n",
    "    adjusted_nclasses = classes.iloc[dropped_df.index].nunique()\n",
    "\n",
    "    summaries.append(\n",
    "        Summary(\n",
    "            name,\n",
    "            nrows,\n",
    "            ncols,\n",
    "            nclasses,\n",
    "            missing_values,\n",
    "            adjusted_nrows,\n",
    "            adjusted_nclasses,\n",
    "            kl.knee,\n",
    "        )\n",
    "    )\n"
   ]
  },
  {
   "cell_type": "code",
   "execution_count": null,
   "metadata": {},
   "outputs": [],
   "source": [
    "summary_df = pd.DataFrame(summaries).set_index(\"Name\")\n",
    "summary_df.index = [\" \".join(name.split(\"_\")).capitalize() for name in summary_df.index]\n",
    "summary_df.columns = [\n",
    "    \" \".join(col.replace(\"o_\", \"o._\").split(\"_\")) for col in summary_df.columns\n",
    "]\n",
    "\n",
    "summary_df.to_latex(\n",
    "    \"../tex/dataset_summary.tex\", column_format=\"l\" + \"r\" * len(summary_df.columns)\n",
    ")\n",
    "summary_df\n"
   ]
  },
  {
   "cell_type": "code",
   "execution_count": null,
   "metadata": {},
   "outputs": [],
   "source": []
  }
 ],
 "metadata": {
  "kernelspec": {
   "display_name": "Python 3",
   "language": "python",
   "name": "python3"
  },
  "language_info": {
   "codemirror_mode": {
    "name": "ipython",
    "version": 3
   },
   "file_extension": ".py",
   "mimetype": "text/x-python",
   "name": "python",
   "nbconvert_exporter": "python",
   "pygments_lexer": "ipython3",
   "version": "3.7.3"
  }
 },
 "nbformat": 4,
 "nbformat_minor": 2
}
